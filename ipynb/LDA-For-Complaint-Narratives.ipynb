{
 "cells": [
  {
   "cell_type": "markdown",
   "metadata": {},
   "source": [
    "## Using LDA to clean and cluster the complaint narratives\n",
    "Instead of looking at per-product levels, we now use the entire dataset to group the issues together, and match that against the customer selected issues to see how that compares. We are trying the approach of [this paper](http://www.recoverydecisionscience.com/text-mining-reveals-hidden-trends-in-cfpb-complaint-narratives/) to see whether it can reproduce their results to create an useful prototype."
   ]
  },
  {
   "cell_type": "code",
   "execution_count": 2,
   "metadata": {},
   "outputs": [],
   "source": [
    "%matplotlib inline\n",
    "%load_ext autoreload\n",
    "%autoreload 2"
   ]
  },
  {
   "cell_type": "code",
   "execution_count": 210,
   "metadata": {},
   "outputs": [],
   "source": [
    "import re\n",
    "import numpy as np\n",
    "import pandas as pd\n",
    "import datetime"
   ]
  },
  {
   "cell_type": "code",
   "execution_count": 113,
   "metadata": {},
   "outputs": [],
   "source": [
    "import spacy\n",
    "nlp = spacy.load(\"en_core_web_sm\")\n",
    "#!python -m spacy download en_core_web_sm"
   ]
  },
  {
   "cell_type": "code",
   "execution_count": 211,
   "metadata": {},
   "outputs": [],
   "source": [
    "import os, sys\n",
    "\n",
    "module_path = os.path.abspath(os.path.join('..'))\n",
    "if module_path not in sys.path:\n",
    "    sys.path.append(module_path)"
   ]
  },
  {
   "cell_type": "code",
   "execution_count": 212,
   "metadata": {},
   "outputs": [],
   "source": [
    "from preprocess.clean_and_tokenize import clean_text, tokenize"
   ]
  },
  {
   "cell_type": "markdown",
   "metadata": {},
   "source": [
    "We tried to group the products together but in the end we don't need it - since we are only dealing with the complaint issues themselves. "
   ]
  },
  {
   "cell_type": "code",
   "execution_count": 70,
   "metadata": {
    "scrolled": true
   },
   "outputs": [
    {
     "name": "stderr",
     "output_type": "stream",
     "text": [
      "/Users/sueliu/Mudano/customer-complaints/venv/lib/python3.7/site-packages/IPython/core/interactiveshell.py:3058: DtypeWarning: Columns (16) have mixed types. Specify dtype option on import or set low_memory=False.\n",
      "  interactivity=interactivity, compiler=compiler, result=result)\n"
     ]
    }
   ],
   "source": [
    "file = '../data/with_narrative.csv'\n",
    "df = pd.read_csv(file)\n",
    "df.drop_duplicates(subset='Consumer complaint narrative', inplace=True)"
   ]
  },
  {
   "cell_type": "markdown",
   "metadata": {},
   "source": [
    "### Get up to 99% of the issues (removes 61 types)"
   ]
  },
  {
   "cell_type": "markdown",
   "metadata": {},
   "source": [
    "#### Clean and tokenize, save to file"
   ]
  },
  {
   "cell_type": "code",
   "execution_count": 91,
   "metadata": {},
   "outputs": [],
   "source": [
    "issues_df = pd.DataFrame(df.Issue.value_counts()).reset_index()\n",
    "issues_df['ratio'] = issues_df['Issue']/len(df)\n",
    "issues_df['cum_ratio'] = np.cumsum(issues_df['ratio'])"
   ]
  },
  {
   "cell_type": "code",
   "execution_count": 101,
   "metadata": {},
   "outputs": [],
   "source": [
    "model_df = df[df.Issue.isin(issues_df[issues_df.cum_ratio < 0.99]['index'].values)]\n",
    "model_df['date'] = pd.to_datetime(model_df['Date sent to company'], format='%m/%d/%Y')\n",
    "model_df = model_df[['date', 'Product', 'Issue', 'Consumer complaint narrative', 'Company', 'Complaint ID']]\n",
    "\n",
    "model_df['cleaned'] = model_df['Consumer complaint narrative'].apply(clean)\n",
    "tokenized = []\n",
    "for output in tokenize(model_df['cleaned']):\n",
    "    tokenized.append(output)\n",
    "model_df['tokenized'] = tokenized\n",
    "\n",
    "model_df.to_csv('../data/for_issue_lda.csv', index=False)"
   ]
  },
  {
   "cell_type": "markdown",
   "metadata": {},
   "source": [
    "### Latent Dirichlet Allocation"
   ]
  },
  {
   "cell_type": "code",
   "execution_count": 213,
   "metadata": {},
   "outputs": [],
   "source": [
    "import pickle\n",
    "from sklearn.feature_extraction.text import CountVectorizer\n",
    "vectorizer = CountVectorizer(max_features=5000, ngram_range=(1, 2))"
   ]
  },
  {
   "cell_type": "code",
   "execution_count": 214,
   "metadata": {},
   "outputs": [],
   "source": [
    "X = vectorizer.fit_transform(model_df.tokenized)"
   ]
  },
  {
   "cell_type": "code",
   "execution_count": 215,
   "metadata": {},
   "outputs": [],
   "source": [
    "from sklearn.decomposition import LatentDirichletAllocation"
   ]
  },
  {
   "cell_type": "code",
   "execution_count": 247,
   "metadata": {},
   "outputs": [],
   "source": [
    "def run_lda_expt(X, n_topics):\n",
    "    lda_model = LatentDirichletAllocation(n_components=n_topics, doc_topic_prior=0.1, \n",
    "                                          topic_word_prior=0.1, random_state=42, n_jobs=-1)\n",
    "    lda_model.fit(X)\n",
    "    # Perplexity\n",
    "    print(\"Model perplexity: {}\".format(lda_model.perplexity(X)))\n",
    "    with open('../output/lda_issues_{}_topics.pickle'.format(n_topics), 'wb') as f:\n",
    "        pickle.dump(lda_model, f, pickle.HIGHEST_PROTOCOL)"
   ]
  },
  {
   "cell_type": "code",
   "execution_count": 248,
   "metadata": {},
   "outputs": [],
   "source": [
    "import time"
   ]
  },
  {
   "cell_type": "code",
   "execution_count": null,
   "metadata": {},
   "outputs": [],
   "source": [
    "n_topics_arr = [40, 45, 55, 60, 65]\n",
    "for nt in n_topics_arr:\n",
    "    t0 = time.time()\n",
    "    run_lda_expt(X, nt)\n",
    "    print('Time taken: {}s'.format(time.time()-t0))"
   ]
  },
  {
   "cell_type": "code",
   "execution_count": 219,
   "metadata": {},
   "outputs": [],
   "source": [
    "def print_top_words(model, feature_names, n_top_words):\n",
    "    for topic_idx, topic in enumerate(model.components_):\n",
    "        message = \"Topic #%d: \" % topic_idx\n",
    "        message += \",\".join([feature_names[i]\n",
    "                             for i in topic.argsort()[:-n_top_words - 1:-1]])\n",
    "        print(message)\n",
    "    print()"
   ]
  },
  {
   "cell_type": "code",
   "execution_count": 220,
   "metadata": {},
   "outputs": [],
   "source": [
    "n_top_words=10"
   ]
  },
  {
   "cell_type": "code",
   "execution_count": 221,
   "metadata": {},
   "outputs": [
    {
     "name": "stdout",
     "output_type": "stream",
     "text": [
      "Topic #0: loan,student,student loan,payment,pay,repayment,plan,year,school,program\n",
      "Topic #1: address,mail,email,receive,send,return,notice,order,provide,deliver\n",
      "Topic #2: company,loan,tell,sign,contact,contract,credit,say,ask,call\n",
      "Topic #3: letter,send,receive,state,receive letter,request,send letter,letter state,fax,mail\n",
      "Topic #4: report,credit,information,credit report,experian,bureau,credit bureau,agency,inaccurate,information credit\n",
      "Topic #5: bank,check,money,account,fund,deposit,day,branch,check account,cash\n",
      "Topic #6: account,verify,proof,original,provide,contract,verification,credit,report,verify account\n",
      "Topic #7: date,address,account,numb,open,account numb,balance,creditor,report,live\n",
      "Topic #8: mortgage,home,loan,house,refinance,pay,sell,year,mortgage company,mortgage payment\n",
      "Topic #9: credit,card,credit card,year,ago,old,year ago,apply,application,limitation\n",
      "Topic #10: report,credit,credit report,remove,account,transunion,bureau,credit bureau,show,remove credit\n",
      "Topic #11: card,pay,credit card,credit,discover,money,use,say,tell,get\n",
      "Topic #12: modification,loan,mortgage,foreclosure,loan modification,document,application,request,home,process\n",
      "Topic #13: bill,collection,pay,agency,collection agency,service,send,receive,owe,pay bill\n",
      "Topic #14: information,provide,service,website,online,freeze,request,try,form,site\n",
      "Topic #15: escrow,mortgage,taxis,pay,tax,paypal,payment,refund,account,ditech\n",
      "Topic #16: offer,point,bonus,receive,account,term,open,card,promotion,reward\n",
      "Topic #17: credit,score,access,credit score,alert,usaa,fraud,drop,mr,question\n",
      "Topic #18: late,report,day,bankruptcy,late payment,payment,credit,day late,account,past\n",
      "Topic #19: fee,late,late fee,charge,pay,payment,month,statement,credit,receive\n",
      "Topic #20: credit,rate,interest,score,limit,high,interest rate,low,credit score,increase\n",
      "Topic #21: close,sale,property,home,short,appraisal,day,process,short sale,buyer\n",
      "Topic #22: debt,collection,collector,allege,debt collection,debt collector,claim,practice,act,legal\n",
      "Topic #23: payment,account,history,credit,status,current,update,month,payment history,miss\n",
      "Topic #24: inquiry,credit,hard,pull,report,hard inquiry,credit report,authorize,inquiry credit,run\n",
      "Topic #25: call,phone,numb,time,day,phone call,stop,message,tell,receive\n",
      "Topic #26: security,social,social security,information,numb,personal,security numb,account,breach,datum\n",
      "Topic #27: debt,account,validation,report,request,send,credit,validate,collection,provide\n",
      "Topic #28: complaint,file,document,response,court,send,case,attach,cfpb,respond\n",
      "Topic #29: account,close,open,close account,account close,open account,new,account open,credit,card\n",
      "Topic #30: help,year,time,try,work,go,not,know,get,need\n",
      "Topic #31: note,state,property,document,court,law,loan,trust,record,legal\n",
      "Topic #32: statement,service,loan,firm,loan service,llc,transfer,law firm,receive,law\n",
      "Topic #33: dispute,item,credit,report,file,investigation,remove,file dispute,time,submit\n",
      "Topic #34: report,identity,theft,fraudulent,identity theft,account,police,fraud,victim,police report\n",
      "Topic #35: consumer,financial,complaint,practice,protection,union,provide,federal,cfpb,action\n",
      "Topic #36: car,vehicle,finance,lease,auto,pay,financial,loan,purchase,ally\n",
      "Topic #37: inc,violation,act,medical,acct,texas,fair,credit,system,debt\n",
      "Topic #38: account,pay,bank,balance,state,settlement,payment,account pay,settle,bank account\n",
      "Topic #39: tell,say,call,ask,speak,go,state,phone,need,know\n",
      "Topic #40: unauthorized,inquiry,request,credit,wage,garnish,employer,authorize,garnishment,follow\n",
      "Topic #41: loan,interest,pay,payment,principal,rate,apply,month,year,monthly\n",
      "Topic #42: card,charge,transaction,claim,fraud,purchase,tell,refund,debit,merchant\n",
      "Topic #43: payment,month,pay,tell,time,day,late,call,make,receive\n",
      "Topic #44: debt,owe,collect,collection,company,credit,report,recovery,collect debt,attempt\n",
      "Topic #45: consumer,information,agency,report,block,report agency,consumer report,section,shall,file\n",
      "Topic #46: insurance,lien,policy,insurance company,company,pay,national,release,tax,claim\n",
      "Topic #47: charge,fee,balance,account,overdraft,pay,interest,transaction,overdraft fee,month\n",
      "Topic #48: fcra,law,violation,report,provide,section,information,credit,require,right\n",
      "Topic #49: customer,service,customer service,issue,representative,speak,resolve,contact,email,receive\n",
      "\n"
     ]
    }
   ],
   "source": [
    "count_feature_names = vectorizer.get_feature_names()\n",
    "print_top_words(lda_model, count_feature_names, n_top_words)"
   ]
  },
  {
   "cell_type": "code",
   "execution_count": 223,
   "metadata": {},
   "outputs": [],
   "source": [
    "lda_topics = lda_model.transform(X)"
   ]
  },
  {
   "cell_type": "code",
   "execution_count": 228,
   "metadata": {},
   "outputs": [],
   "source": [
    "%matplotlib inline\n",
    "import matplotlib.pyplot as plt"
   ]
  },
  {
   "cell_type": "code",
   "execution_count": 245,
   "metadata": {},
   "outputs": [
    {
     "name": "stdout",
     "output_type": "stream",
     "text": [
      "Importance [33  3 18  2 36 29 28 38 35 14 39 27  4 48 26  6 30 16 34 19 49 23 45  7\n",
      " 10 22 47  5 17 42 31 43 24 25 11 37 15 41 40 13  9 20 21  1 32 12  0  8\n",
      " 44 46]\n",
      "Narrative: I was marked as late on XXXX XXXX ( Auto ) account XXXX. I do not think I was late per the attached dispute letter sent. I am asking for this matter to be looked into again and more specifically how your company investigated this information with XXXX XXXX. SEE ATTACHED.\n",
      "Customer labelled issue: Problem with a credit reporting company's investigation into an existing problem\n"
     ]
    },
    {
     "data": {
      "image/png": "[encoded data removed]",
      "text/plain": [
       "<Figure size 432x288 with 1 Axes>"
      ]
     },
     "metadata": {
      "needs_background": "light"
     },
     "output_type": "display_data"
    }
   ],
   "source": [
    "idx = 5\n",
    "plt.bar(np.arange(50), lda_topics[idx,:])\n",
    "print('Importance', np.argsort(lda_topics[idx, :])[::-1])\n",
    "print('Narrative:', model_df['Consumer complaint narrative'][idx])\n",
    "print('Customer labelled issue:', model_df['Issue'][idx])"
   ]
  },
  {
   "cell_type": "code",
   "execution_count": null,
   "metadata": {},
   "outputs": [],
   "source": []
  }
 ],
 "metadata": {
  "kernelspec": {
   "display_name": "Python 3",
   "language": "python",
   "name": "python3"
  },
  "language_info": {
   "codemirror_mode": {
    "name": "ipython",
    "version": 3
   },
   "file_extension": ".py",
   "mimetype": "text/x-python",
   "name": "python",
   "nbconvert_exporter": "python",
   "pygments_lexer": "ipython3",
   "version": "3.7.3"
  }
 },
 "nbformat": 4,
 "nbformat_minor": 2
}
