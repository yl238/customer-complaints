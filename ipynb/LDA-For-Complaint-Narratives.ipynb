{
 "cells": [
  {
   "cell_type": "markdown",
   "metadata": {},
   "source": [
    "## Using LDA to clean and cluster the complaint narratives\n",
    "Instead of looking at per-product levels, we now use the entire dataset to group the issues together, and match that against the customer selected issues to see how that compares. We are trying the approach of [this paper](http://www.recoverydecisionscience.com/text-mining-reveals-hidden-trends-in-cfpb-complaint-narratives/) to see whether it can reproduce their results to create an useful prototype."
   ]
  },
  {
   "cell_type": "code",
   "execution_count": 2,
   "metadata": {},
   "outputs": [],
   "source": [
    "%matplotlib inline\n",
    "%load_ext autoreload\n",
    "%autoreload 2\n"
   ]
  },
  {
   "cell_type": "code",
   "execution_count": 210,
   "metadata": {},
   "outputs": [],
   "source": [
    "import re\n",
    "import time\n",
    "import numpy as np\n",
    "import pandas as pd\n",
    "import datetime\n",
    "import matplotlib.pyplot as plt\n",
    "\n",
    "import os, sys\n",
    "module_path = os.path.abspath(os.path.join('..'))\n",
    "if module_path not in sys.path:\n",
    "    sys.path.append(module_path)\n",
    "    \n",
    "from preprocess.clean_and_tokenize import clean_text, tokenize"
   ]
  },
  {
   "cell_type": "code",
   "execution_count": 113,
   "metadata": {},
   "outputs": [],
   "source": [
    "import spacy\n",
    "nlp = spacy.load(\"en_core_web_sm\")\n",
    "#!python -m spacy download en_core_web_sm"
   ]
  },
  {
   "cell_type": "markdown",
   "metadata": {},
   "source": [
    "We tried to group the products together but in the end we don't need it - since we are only dealing with the complaint issues themselves. "
   ]
  },
  {
   "cell_type": "code",
   "execution_count": 70,
   "metadata": {
    "scrolled": true
   },
   "outputs": [
    {
     "name": "stderr",
     "output_type": "stream",
     "text": [
      "/Users/sueliu/Mudano/customer-complaints/venv/lib/python3.7/site-packages/IPython/core/interactiveshell.py:3058: DtypeWarning: Columns (16) have mixed types. Specify dtype option on import or set low_memory=False.\n",
      "  interactivity=interactivity, compiler=compiler, result=result)\n"
     ]
    }
   ],
   "source": [
    "file = '../data/with_narrative.csv'\n",
    "df = pd.read_csv(file)\n",
    "df.drop_duplicates(subset='Consumer complaint narrative', inplace=True)"
   ]
  },
  {
   "cell_type": "markdown",
   "metadata": {},
   "source": [
    "### Get up to 99% of the issues (removes 61 types)"
   ]
  },
  {
   "cell_type": "markdown",
   "metadata": {},
   "source": [
    "#### Clean and tokenize, save to file"
   ]
  },
  {
   "cell_type": "code",
   "execution_count": 91,
   "metadata": {},
   "outputs": [],
   "source": [
    "issues_df = pd.DataFrame(df.Issue.value_counts()).reset_index()\n",
    "issues_df['ratio'] = issues_df['Issue']/len(df)\n",
    "issues_df['cum_ratio'] = np.cumsum(issues_df['ratio'])"
   ]
  },
  {
   "cell_type": "code",
   "execution_count": 101,
   "metadata": {},
   "outputs": [],
   "source": [
    "model_df = df[df.Issue.isin(issues_df[issues_df.cum_ratio < 0.99]['index'].values)]\n",
    "model_df['date'] = pd.to_datetime(model_df['Date sent to company'], format='%m/%d/%Y')\n",
    "model_df = model_df[['date', 'Product', 'Issue', 'Consumer complaint narrative', 'Company', 'Complaint ID']]\n",
    "\n",
    "model_df['cleaned'] = model_df['Consumer complaint narrative'].apply(clean)\n",
    "tokenized = []\n",
    "for output in tokenize(model_df['cleaned']):\n",
    "    tokenized.append(output)\n",
    "model_df['tokenized'] = tokenized\n",
    "\n",
    "model_df.to_csv('../data/for_issue_lda.csv', index=False)"
   ]
  },
  {
   "cell_type": "markdown",
   "metadata": {},
   "source": [
    "### Latent Dirichlet Allocation"
   ]
  },
  {
   "cell_type": "code",
   "execution_count": 247,
   "metadata": {},
   "outputs": [],
   "source": [
    "import pickle\n",
    "from sklearn.feature_extraction.text import CountVectorizer\n",
    "vectorizer = CountVectorizer(max_features=5000, ngram_range=(1, 2))\n",
    "\n",
    "X = vectorizer.fit_transform(model_df.tokenized)\n",
    "from sklearn.decomposition import LatentDirichletAllocation\n",
    "\n",
    "def run_lda_expt(X, n_topics):\n",
    "    lda_model = LatentDirichletAllocation(n_components=n_topics, doc_topic_prior=0.1, \n",
    "                                          topic_word_prior=0.1, random_state=42, n_jobs=-1)\n",
    "    lda_model.fit(X)\n",
    "    # Perplexity\n",
    "    print(\"Model perplexity: {}\".format(lda_model.perplexity(X)))\n",
    "    with open('../output/lda_issues_{}_topics.pickle'.format(n_topics), 'wb') as f:\n",
    "        pickle.dump(lda_model, f, pickle.HIGHEST_PROTOCOL)"
   ]
  },
  {
   "cell_type": "code",
   "execution_count": 250,
   "metadata": {},
   "outputs": [
    {
     "name": "stderr",
     "output_type": "stream",
     "text": [
      "[nltk_data] Downloading package punkt to /Users/sueliu/nltk_data...\n",
      "[nltk_data]   Package punkt is already up-to-date!\n"
     ]
    },
    {
     "name": "stdout",
     "output_type": "stream",
     "text": [
      "Model perplexity: 787.6875413752559\n",
      "Time taken: 1710.4434819221497s\n"
     ]
    }
   ],
   "source": [
    "n_topics_arr = [54]\n",
    "for nt in n_topics_arr:\n",
    "    t0 = time.time()\n",
    "    run_lda_expt(X, nt)\n",
    "    print('Time taken: {}s'.format(time.time()-t0))"
   ]
  },
  {
   "cell_type": "code",
   "execution_count": 219,
   "metadata": {},
   "outputs": [],
   "source": [
    "def print_top_words(model, feature_names, n_top_words):\n",
    "    for topic_idx, topic in enumerate(model.components_):\n",
    "        message = \"Topic #%d: \" % topic_idx\n",
    "        message += \",\".join([feature_names[i]\n",
    "                             for i in topic.argsort()[:-n_top_words - 1:-1]])\n",
    "        print(message)\n",
    "    print()"
   ]
  },
  {
   "cell_type": "code",
   "execution_count": 223,
   "metadata": {},
   "outputs": [],
   "source": [
    "lda_topics = lda_model.transform(X)"
   ]
  },
  {
   "cell_type": "code",
   "execution_count": 245,
   "metadata": {},
   "outputs": [
    {
     "name": "stdout",
     "output_type": "stream",
     "text": [
      "Importance [33  3 18  2 36 29 28 38 35 14 39 27  4 48 26  6 30 16 34 19 49 23 45  7\n",
      " 10 22 47  5 17 42 31 43 24 25 11 37 15 41 40 13  9 20 21  1 32 12  0  8\n",
      " 44 46]\n",
      "Narrative: I was marked as late on XXXX XXXX ( Auto ) account XXXX. I do not think I was late per the attached dispute letter sent. I am asking for this matter to be looked into again and more specifically how your company investigated this information with XXXX XXXX. SEE ATTACHED.\n",
      "Customer labelled issue: Problem with a credit reporting company's investigation into an existing problem\n"
     ]
    },
    {
     "data": {
      "image/png": "[encoded data removed]",
      "text/plain": [
       "<Figure size 432x288 with 1 Axes>"
      ]
     },
     "metadata": {
      "needs_background": "light"
     },
     "output_type": "display_data"
    }
   ],
   "source": [
    "idx = 5\n",
    "plt.bar(np.arange(50), lda_topics[idx,:])\n",
    "print('Importance', np.argsort(lda_topics[idx, :])[::-1])\n",
    "print('Narrative:', model_df['Consumer complaint narrative'][idx])\n",
    "print('Customer labelled issue:', model_df['Issue'][idx])"
   ]
  }
 ],
 "metadata": {
  "kernelspec": {
   "display_name": "Python 3",
   "language": "python",
   "name": "python3"
  },
  "language_info": {
   "codemirror_mode": {
    "name": "ipython",
    "version": 3
   },
   "file_extension": ".py",
   "mimetype": "text/x-python",
   "name": "python",
   "nbconvert_exporter": "python",
   "pygments_lexer": "ipython3",
   "version": "3.7.3"
  }
 },
 "nbformat": 4,
 "nbformat_minor": 2
}
