{
 "cells": [
  {
   "cell_type": "code",
   "execution_count": 33,
   "metadata": {},
   "outputs": [
    {
     "name": "stdout",
     "output_type": "stream",
     "text": [
      "The autoreload extension is already loaded. To reload it, use:\n",
      "  %reload_ext autoreload\n"
     ]
    }
   ],
   "source": [
    "%matplotlib inline\n",
    "%load_ext autoreload\n",
    "%autoreload 2"
   ]
  },
  {
   "cell_type": "code",
   "execution_count": 34,
   "metadata": {},
   "outputs": [],
   "source": [
    "import pandas as pd\n",
    "import numpy as np\n",
    "import matplotlib.pyplot as plt\n",
    "import seaborn as sns\n",
    "sns.set(font_scale=1.3)"
   ]
  },
  {
   "cell_type": "code",
   "execution_count": 35,
   "metadata": {},
   "outputs": [],
   "source": [
    "from sklearn.feature_extraction.text import TfidfVectorizer\n",
    "from sklearn.linear_model import LogisticRegression\n",
    "from sklearn.model_selection import train_test_split\n",
    "\n",
    "from sklearn.metrics import classification_report\n",
    "from sklearn.metrics import confusion_matrix"
   ]
  },
  {
   "cell_type": "code",
   "execution_count": 232,
   "metadata": {},
   "outputs": [
    {
     "name": "stderr",
     "output_type": "stream",
     "text": [
      "/Users/sueliu/Mudano/customer-complaints/venv/lib/python3.7/site-packages/IPython/core/interactiveshell.py:3058: DtypeWarning: Columns (16) have mixed types. Specify dtype option on import or set low_memory=False.\n",
      "  interactivity=interactivity, compiler=compiler, result=result)\n"
     ]
    }
   ],
   "source": [
    "file = '../data/with_tokenized.csv'\n",
    "df = pd.read_csv(file)"
   ]
  },
  {
   "cell_type": "code",
   "execution_count": 204,
   "metadata": {},
   "outputs": [
    {
     "data": {
      "text/plain": [
       "Credit reporting, credit repair services, or other personal consumer reports    148581\n",
       "Debt collection                                                                  95954\n",
       "Mortgage                                                                         57037\n",
       "Credit card or prepaid card                                                      46671\n",
       "Bank account or service                                                          30736\n",
       "Student loan                                                                     23414\n",
       "Consumer Loan                                                                    16310\n",
       "Money transfer, virtual currency, or money service                                8014\n",
       "Payday loan, title loan, or personal loan                                         7028\n",
       "Other financial service                                                            292\n",
       "Name: Product, dtype: int64"
      ]
     },
     "execution_count": 204,
     "metadata": {},
     "output_type": "execute_result"
    }
   ],
   "source": [
    "df.Product.value_counts()"
   ]
  },
  {
   "cell_type": "code",
   "execution_count": 233,
   "metadata": {},
   "outputs": [],
   "source": [
    "debt_df = df[df['Product'] == 'Debt collection']"
   ]
  },
  {
   "cell_type": "code",
   "execution_count": 234,
   "metadata": {},
   "outputs": [],
   "source": [
    "debt_df.to_csv('../data/debt_only.csv', index=False)"
   ]
  },
  {
   "cell_type": "code",
   "execution_count": 169,
   "metadata": {},
   "outputs": [],
   "source": [
    "model_df = debt_df[['Complaint ID', 'tokenized_text', 'Issue']].dropna()\n",
    "model_df = model_df[model_df['tokenized_text'].str.len() >= 10]"
   ]
  },
  {
   "cell_type": "code",
   "execution_count": 170,
   "metadata": {},
   "outputs": [],
   "source": [
    "abbrev_map = {\n",
    "    'Attempts to collect debt not owed' : 'DNO',\n",
    "    'Communication tactics': 'CT',\n",
    "    \"Cont'd attempts collect debt not owed\": 'CDNO',\n",
    "    \"Disclosure verification of debt\": 'DV',\n",
    "    \"False statements or representation\": 'FS',\n",
    "    \"Improper contact or sharing of info\": 'IC',\n",
    "    \"Taking/threatening an illegal action\": 'TIA',\n",
    "    \"Threatened to contact someone or share information improperly\": 'IC',\n",
    "    \"Took or threatened to take negative or legal action\": 'TNA',\n",
    "    \"Written notification about debt\": 'WN'\n",
    "}\n",
    "model_df['target'] = model_df['Issue'].apply(lambda i: abbrev_map[i])"
   ]
  },
  {
   "cell_type": "code",
   "execution_count": 235,
   "metadata": {},
   "outputs": [],
   "source": [
    "valid_types = ['DNO', 'CT', 'WN', 'FS', 'DV', 'TNA']\n",
    "model_df = model_df[model_df['target'].isin(valid_types)]\n",
    "targets = sorted(model_df['target'].unique())"
   ]
  },
  {
   "cell_type": "code",
   "execution_count": 236,
   "metadata": {},
   "outputs": [],
   "source": [
    "train_df, test_df = train_test_split(model_df, test_size=0.2, random_state=42)\n",
    "train_df, val_df = train_test_split(train_df, test_size=0.2, random_state=42)\n",
    "\n",
    "X_train, X_val = train_df['tokenized_text'].values, val_df['tokenized_text'].values\n",
    "y_train, y_val = train_df['target'].values, val_df['target'].values"
   ]
  },
  {
   "cell_type": "code",
   "execution_count": 237,
   "metadata": {},
   "outputs": [
    {
     "data": {
      "text/plain": [
       "TfidfVectorizer(analyzer='word', binary=False, decode_error='strict',\n",
       "                dtype=<class 'numpy.float64'>, encoding='utf-8',\n",
       "                input='content', lowercase=True, max_df=1.0, max_features=1500,\n",
       "                min_df=1, ngram_range=(1, 3), norm='l2', preprocessor=None,\n",
       "                smooth_idf=True, stop_words=None, strip_accents=None,\n",
       "                sublinear_tf=False, token_pattern='(?u)\\\\b\\\\w\\\\w+\\\\b',\n",
       "                tokenizer=None, use_idf=True, vocabulary=None)"
      ]
     },
     "execution_count": 237,
     "metadata": {},
     "output_type": "execute_result"
    }
   ],
   "source": [
    "tfidf_vect = TfidfVectorizer(analyzer='word', max_features=1500, ngram_range=(1, 3))\n",
    "tfidf_vect.fit(X_train)"
   ]
  },
  {
   "cell_type": "code",
   "execution_count": 238,
   "metadata": {},
   "outputs": [],
   "source": [
    "X_train_tfidf = tfidf_vect.transform(X_train)\n",
    "X_val_tfidf = tfidf_vect.transform(X_val)"
   ]
  },
  {
   "cell_type": "code",
   "execution_count": 239,
   "metadata": {},
   "outputs": [],
   "source": [
    "from sklearn.linear_model import LogisticRegressionCV"
   ]
  },
  {
   "cell_type": "code",
   "execution_count": 240,
   "metadata": {},
   "outputs": [
    {
     "name": "stderr",
     "output_type": "stream",
     "text": [
      "/Users/sueliu/Mudano/customer-complaints/venv/lib/python3.7/site-packages/sklearn/model_selection/_split.py:1978: FutureWarning: The default value of cv will change from 3 to 5 in version 0.22. Specify it explicitly to silence this warning.\n",
      "  warnings.warn(CV_WARNING, FutureWarning)\n"
     ]
    },
    {
     "data": {
      "text/plain": [
       "LogisticRegressionCV(Cs=10, class_weight='balanced', cv='warn', dual=False,\n",
       "                     fit_intercept=True, intercept_scaling=1.0, l1_ratios=None,\n",
       "                     max_iter=500, multi_class='auto', n_jobs=3, penalty='l2',\n",
       "                     random_state=42, refit=True, scoring=None, solver='lbfgs',\n",
       "                     tol=0.0001, verbose=0)"
      ]
     },
     "execution_count": 240,
     "metadata": {},
     "output_type": "execute_result"
    }
   ],
   "source": [
    "lr = LogisticRegressionCV(max_iter=500, class_weight='balanced', multi_class='auto',\n",
    "                       solver='lbfgs', n_jobs=3, random_state=42)\n",
    "lr.fit(X_train_tfidf, y_train)"
   ]
  },
  {
   "cell_type": "code",
   "execution_count": 218,
   "metadata": {},
   "outputs": [],
   "source": [
    "from sklearn.ensemble import RandomForestClassifier\n",
    "from pprint import pprint"
   ]
  },
  {
   "cell_type": "code",
   "execution_count": 220,
   "metadata": {},
   "outputs": [
    {
     "name": "stdout",
     "output_type": "stream",
     "text": [
      "'Parameters currently in use:'\n",
      "{'bootstrap': True,\n",
      " 'class_weight': None,\n",
      " 'criterion': 'gini',\n",
      " 'max_depth': None,\n",
      " 'max_features': 'auto',\n",
      " 'max_leaf_nodes': None,\n",
      " 'min_impurity_decrease': 0.0,\n",
      " 'min_impurity_split': None,\n",
      " 'min_samples_leaf': 1,\n",
      " 'min_samples_split': 2,\n",
      " 'min_weight_fraction_leaf': 0.0,\n",
      " 'n_estimators': 'warn',\n",
      " 'n_jobs': None,\n",
      " 'oob_score': False,\n",
      " 'random_state': 42,\n",
      " 'verbose': 0,\n",
      " 'warm_start': False}\n"
     ]
    }
   ],
   "source": [
    "rf = RandomForestClassifier(random_state=42)\n",
    "pprint('Parameters currently in use:')\n",
    "pprint(rf.get_params())"
   ]
  },
  {
   "cell_type": "markdown",
   "metadata": {},
   "source": [
    "The most important settings are the number of trees in the forest (`n_estimators`) and the number of features considered for splitting at each leaf node (`max_features`)\n",
    "\n",
    "Let's adjust the following set of hyperparameters:\n",
    "* `n_estimators`: number of trees in the forest\n",
    "* `max_features`: maximum number of features considered for splitting a node\n",
    "* `max_depth`: maximum number of levels in each decision tree\n",
    "* `min_samples_split`: minimum number of data points placed in a node before the node is split\n",
    "* `min_samples_leaf`: minimum number of data points allowed in a leaf node\n",
    "* `bootstrap`: method for sampling data points (with or without replacement)"
   ]
  },
  {
   "cell_type": "code",
   "execution_count": 225,
   "metadata": {},
   "outputs": [
    {
     "name": "stdout",
     "output_type": "stream",
     "text": [
      "{'bootstrap': [True, False],\n",
      " 'max_depth': [10, 20, 30, 40, 50, 60, 70, 80, 90, 100, None],\n",
      " 'max_features': ['auto', 'sqrt'],\n",
      " 'min_samples_leaf': [1, 2, 4],\n",
      " 'min_samples_split': [2, 5, 10],\n",
      " 'n_estimators': [100, 311, 522, 733, 944, 1155, 1366, 1577, 1788, 2000]}\n"
     ]
    }
   ],
   "source": [
    "from sklearn.model_selection import RandomizedSearchCV\n",
    "\n",
    "# Number of trees in random forest\n",
    "n_estimators = [int(x) for x in np.linspace(start=100, stop=2000, num=10)]\n",
    "\n",
    "# Number of features to consider at every split\n",
    "max_features = ['auto', 'sqrt']\n",
    "\n",
    "# Maximum number of levels in tree\n",
    "max_depth = [int(x) for x in np.linspace(10, 100, num=10)]\n",
    "max_depth.append(None)\n",
    "\n",
    "# Minimum number of samples required to split a node\n",
    "min_samples_split = [2, 5, 10]\n",
    "\n",
    "# Minimum number of samples required at each leaf node\n",
    "min_samples_leaf = [1, 2, 4]\n",
    "\n",
    "# Method of selecting samples for training each tree\n",
    "bootstrap = [True, False]\n",
    "\n",
    "# Create the random grid\n",
    "random_grid = {'n_estimators': n_estimators,\n",
    "              'max_features': max_features,\n",
    "              'max_depth': max_depth,\n",
    "              'min_samples_split': min_samples_split,\n",
    "              'min_samples_leaf': min_samples_leaf,\n",
    "              'bootstrap': bootstrap}\n",
    "pprint(random_grid)"
   ]
  },
  {
   "cell_type": "code",
   "execution_count": 241,
   "metadata": {},
   "outputs": [],
   "source": [
    "model = lr\n",
    "pred = model.predict(X_val_tfidf)\n",
    "val_df['pred'] = pred\n",
    "pred_proba = model.predict_proba(X_val_tfidf)\n",
    "proba_df = pd.DataFrame(pred_proba, columns=['pred_'+t for t in sorted(targets)])\n",
    "proba_df['max_prob'] = proba_df.max(axis=1)\n",
    "proba_df['Complaint ID'] = val_df['Complaint ID'].values\n",
    "\n",
    "merged = pd.merge(val_df, proba_df, on='Complaint ID')\n",
    "threshold = merged[merged['max_prob'] > 0]"
   ]
  },
  {
   "cell_type": "code",
   "execution_count": 242,
   "metadata": {},
   "outputs": [
    {
     "name": "stdout",
     "output_type": "stream",
     "text": [
      "              precision    recall  f1-score   support\n",
      "\n",
      "          CT       0.72      0.74      0.72      2103\n",
      "         DNO       0.70      0.48      0.57      3820\n",
      "          DV       0.33      0.40      0.36      1186\n",
      "          FS       0.37      0.46      0.41      1493\n",
      "         TNA       0.34      0.46      0.39      1066\n",
      "          WN       0.44      0.47      0.45      1669\n",
      "\n",
      "    accuracy                           0.51     11337\n",
      "   macro avg       0.48      0.50      0.48     11337\n",
      "weighted avg       0.55      0.51      0.52     11337\n",
      "\n"
     ]
    }
   ],
   "source": [
    "print(classification_report(threshold['target'], threshold['pred']))"
   ]
  },
  {
   "cell_type": "code",
   "execution_count": null,
   "metadata": {},
   "outputs": [],
   "source": [
    "def generate_test_preds(model, test_df):\n",
    "    X_test, y_test = test_df['tokenized_text'].values, test_df['target']\n",
    "    X_test_tfidf = tfidf_vect.transform(X_test)\n",
    "    pred = model.predict(X_test_tfidf)\n",
    "    \n",
    "    test_df['pred'] = pred\n",
    "    pred_proba = model.predict_proba(X_test_tfidf)\n",
    "    proba_df = pd.DataFrame(pred_proba, columns=['pred_'+t for t in sorted(valid_types)])\n",
    "    proba_df['max_prob'] = proba_df.max(axis=1)\n",
    "    proba_df['Complaint ID'] = test_df['Complaint ID'].values\n",
    "\n",
    "    merged = pd.merge(test_df, proba_df, on='Complaint ID')\n",
    "\n",
    "    orig_df = pd.read_csv('../data/Consumer_Complaints.csv', \n",
    "                      usecols=['Complaint ID', 'Consumer complaint narrative'])\n",
    "    with_narrative_df = pd.merge(merged, orig_df, on='Complaint ID')\n",
    "    with_narrative_df.to_csv('../output/debts_predictions.csv', index=False)"
   ]
  },
  {
   "cell_type": "code",
   "execution_count": 22,
   "metadata": {},
   "outputs": [],
   "source": [
    "import matplotlib.pyplot as plt\n",
    "import seaborn as sns\n",
    "sns.set(font_scale=1.2)"
   ]
  },
  {
   "cell_type": "code",
   "execution_count": 23,
   "metadata": {},
   "outputs": [],
   "source": [
    "support = np.sum(confusion_matrix(val_df['target'], val_df['pred']), axis=1)\n",
    "total_pred = np.sum(confusion_matrix(val_df['target'], val_df['pred']), axis=0)"
   ]
  },
  {
   "cell_type": "code",
   "execution_count": 24,
   "metadata": {},
   "outputs": [],
   "source": [
    "cm = confusion_matrix(val_df['target'], val_df['pred'])"
   ]
  },
  {
   "cell_type": "code",
   "execution_count": 25,
   "metadata": {},
   "outputs": [],
   "source": [
    "precision_matrix = cm/total_pred\n",
    "recall_matrix = cm/support"
   ]
  },
  {
   "cell_type": "code",
   "execution_count": 27,
   "metadata": {},
   "outputs": [
    {
     "data": {
      "image/png": "[encoded data removed]",
      "text/plain": [
       "<Figure size 648x504 with 2 Axes>"
      ]
     },
     "metadata": {},
     "output_type": "display_data"
    }
   ],
   "source": [
    "f, ax = plt.subplots(figsize=(9, 7))\n",
    "ax = sns.heatmap(precision_matrix, cmap='Blues', vmin=0, vmax=1, xticklabels=valid_types, yticklabels=valid_types)"
   ]
  },
  {
   "cell_type": "code",
   "execution_count": null,
   "metadata": {},
   "outputs": [],
   "source": []
  }
 ],
 "metadata": {
  "kernelspec": {
   "display_name": "Python 3",
   "language": "python",
   "name": "python3"
  },
  "language_info": {
   "codemirror_mode": {
    "name": "ipython",
    "version": 3
   },
   "file_extension": ".py",
   "mimetype": "text/x-python",
   "name": "python",
   "nbconvert_exporter": "python",
   "pygments_lexer": "ipython3",
   "version": "3.7.3"
  }
 },
 "nbformat": 4,
 "nbformat_minor": 2
}
