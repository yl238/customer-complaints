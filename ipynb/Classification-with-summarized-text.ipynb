{
 "cells": [
  {
   "cell_type": "markdown",
   "metadata": {},
   "source": [
    "## We check if there has been changes in classification results using the summarized text\n",
    "- We'd expect with Tf-IDF vectorization, if there's a reduction in the amount of text, there should be a decrease in the model accuracy."
   ]
  },
  {
   "cell_type": "code",
   "execution_count": 1,
   "metadata": {},
   "outputs": [],
   "source": [
    "%matplotlib inline\n",
    "%load_ext autoreload\n",
    "%autoreload 2"
   ]
  },
  {
   "cell_type": "code",
   "execution_count": 2,
   "metadata": {},
   "outputs": [],
   "source": [
    "import re\n",
    "import numpy as np\n",
    "import pandas as pd"
   ]
  },
  {
   "cell_type": "code",
   "execution_count": 184,
   "metadata": {},
   "outputs": [],
   "source": [
    "file = '../output/with_summarized_10_sent.csv''\n",
    "df = pd.read_csv(file, usecols=['Complaint ID', 'Product', 'Issue', 'Consumer complaint narrative'])"
   ]
  },
  {
   "cell_type": "markdown",
   "metadata": {},
   "source": [
    "## Machine Learning Models\n",
    "Build a simple logistic regression model with Tf-IDF vectorization"
   ]
  },
  {
   "cell_type": "code",
   "execution_count": 97,
   "metadata": {},
   "outputs": [],
   "source": [
    "from sklearn.model_selection import train_test_split\n",
    "from sklearn.linear_model import LogisticRegressionCV\n",
    "from sklearn.feature_extraction.text import TfidfVectorizer\n",
    "\n",
    "from sklearn.metrics import classification_report\n",
    "from sklearn.metrics import confusion_matrix"
   ]
  },
  {
   "cell_type": "code",
   "execution_count": 105,
   "metadata": {},
   "outputs": [],
   "source": [
    "import pandas as pd\n",
    "import spacy\n",
    "nlp = spacy.load(\"en_core_web_sm\")"
   ]
  },
  {
   "cell_type": "markdown",
   "metadata": {},
   "source": [
    "### preprocess and tokenize using regex and spaCy"
   ]
  },
  {
   "cell_type": "code",
   "execution_count": 186,
   "metadata": {},
   "outputs": [],
   "source": [
    "import re\n",
    "special = re.compile(r'http\\S+|www\\S+|[^a-zA-Z ]+|xx+')\n",
    "docs_orig = [' '.join(special.sub('', doc.lower()).split()) for doc in df['Consumer complaint narrative'].values]\n",
    "docs_summ = [' '.join(special.sub('', doc.lower()).split()) for doc in df['summarized'].values]"
   ]
  },
  {
   "cell_type": "code",
   "execution_count": 187,
   "metadata": {},
   "outputs": [],
   "source": [
    "tokenized_orig = []\n",
    "for doc in nlp.pipe(docs_orig, disable=['tagger', 'parser', 'ner']):\n",
    "    tokenized_orig.append(\" \".join(token.lemma_.lower() for token in doc if not token.is_stop and not token.is_space \\\n",
    "            and not token.is_punct and not token.like_num))\n",
    "    \n",
    "tokenized_summ = []\n",
    "for doc in nlp.pipe(docs_summ, disable=['tagger', 'parser', 'ner']):\n",
    "    tokenized_summ.append(\" \".join(token.lemma_.lower() for token in doc if not token.is_stop and not token.is_space \\\n",
    "            and not token.is_punct and not token.like_num))"
   ]
  },
  {
   "cell_type": "code",
   "execution_count": 188,
   "metadata": {},
   "outputs": [],
   "source": [
    "del docs_orig\n",
    "del docs_summ"
   ]
  },
  {
   "cell_type": "code",
   "execution_count": 189,
   "metadata": {},
   "outputs": [],
   "source": [
    "df['orig'] = tokenized_orig\n",
    "df['summ'] = tokenized_summ\n",
    "df.dropna().to_csv('../data/with_summarized_tokenized_10_sent.csv', index=False)"
   ]
  },
  {
   "cell_type": "markdown",
   "metadata": {},
   "source": [
    "### Now some ML\n",
    "We don't predict the `other services` category because there are too few entries."
   ]
  },
  {
   "cell_type": "code",
   "execution_count": 190,
   "metadata": {},
   "outputs": [],
   "source": [
    "valid_targets = ['Debt collection', 'Mortgage', 'Student loan',\n",
    "       'Payday loan, title loan, or personal loan',\n",
    "       'Credit card or prepaid card', 'Consumer Loan',\n",
    "       'Money transfer, virtual currency, or money service',\n",
    "       'Credit reporting, credit repair services, or other personal consumer reports',\n",
    "       'Bank account or service']  \n",
    "valid_df = df[df.Product.isin(valid_targets)]\n",
    "targets = sorted(valid_df['Product'].unique())"
   ]
  },
  {
   "cell_type": "markdown",
   "metadata": {},
   "source": [
    "### Train-test split & vectorization"
   ]
  },
  {
   "cell_type": "code",
   "execution_count": 191,
   "metadata": {},
   "outputs": [],
   "source": [
    "train_df, test_df = train_test_split(valid_df, test_size=0.2, random_state=42)\n",
    "train_df, val_df = train_test_split(train_df, test_size=0.2, random_state=42)"
   ]
  },
  {
   "cell_type": "code",
   "execution_count": 192,
   "metadata": {},
   "outputs": [],
   "source": [
    "X_train_orig, X_val_orig = train_df['orig'].values, val_df['orig'].values\n",
    "X_train_summ, X_val_summ = train_df['summ'].values, val_df['summ'].values\n",
    "y_train, y_val = train_df['Product'].values, val_df['Product'].values"
   ]
  },
  {
   "cell_type": "code",
   "execution_count": 203,
   "metadata": {},
   "outputs": [
    {
     "data": {
      "text/plain": [
       "'enter agreement mortgage refinance home interest rate go provide credit issue occur appraisal order appraiser send week late originally intend speak individual sell product inform result delay rate lock extension require fault incur cost pass new good faith estimate send confirm rate lock extension document indicate lender credit reduce cost rate lock extension immediately ask loan processor advise worry sign document sake time credit restore late date extension late require concern document send sign indicate pay time give explanation time send email attempt confirm original credit confirm phone respond email despite send communication email day close tell absolute well provide credit justification not well deal interest rate rise significantly fault party appraisal company fault justification hold bear unethical change term agreement minute base market change sign close deal true not well price month pass interest rate rise okay essentially lie steal customer fault case tell process go incur cost'"
      ]
     },
     "execution_count": 203,
     "metadata": {},
     "output_type": "execute_result"
    }
   ],
   "source": [
    "X_train_orig[179]"
   ]
  },
  {
   "cell_type": "code",
   "execution_count": 204,
   "metadata": {},
   "outputs": [
    {
     "data": {
      "text/plain": [
       "'speak individual sell product inform result delay rate lock extension require fault incur cost pass extension late require concern document send sign indicate pay time give explanation time day close tell absolute well provide credit justification not well deal interest rate rise significantly fault party appraisal company fault immediately ask loan processor advise worry sign document sake time credit restore late date new good faith estimate send confirm rate lock extension document indicate lender credit reduce cost rate lock extension sign close deal true not well price month pass interest rate rise okay essentially lie steal customer justification hold bear unethical change term agreement minute base market change enter agreement mortgage refinance home interest rate go provide credit fault case tell process go incur cost issue occur appraisal order appraiser send week late originally intend'"
      ]
     },
     "execution_count": 204,
     "metadata": {},
     "output_type": "execute_result"
    }
   ],
   "source": [
    "X_train_summ[179]"
   ]
  },
  {
   "cell_type": "markdown",
   "metadata": {},
   "source": [
    "Original data"
   ]
  },
  {
   "cell_type": "code",
   "execution_count": 155,
   "metadata": {},
   "outputs": [
    {
     "data": {
      "text/plain": [
       "TfidfVectorizer(analyzer='word', binary=False, decode_error='strict',\n",
       "                dtype=<class 'numpy.float64'>, encoding='utf-8',\n",
       "                input='content', lowercase=True, max_df=1.0, max_features=1000,\n",
       "                min_df=1, ngram_range=(1, 1), norm='l2', preprocessor=None,\n",
       "                smooth_idf=True, stop_words=None, strip_accents=None,\n",
       "                sublinear_tf=False, token_pattern='(?u)\\\\b\\\\w\\\\w+\\\\b',\n",
       "                tokenizer=None, use_idf=True, vocabulary=None)"
      ]
     },
     "execution_count": 155,
     "metadata": {},
     "output_type": "execute_result"
    }
   ],
   "source": [
    "tfidf_vect = TfidfVectorizer(analyzer='word', max_features=1000)\n",
    "tfidf_vect.fit(X_train_orig)\n",
    "X_train_orig_tfidf = tfidf_vect.transform(X_train_orig)\n",
    "X_val_orig_tfidf = tfidf_vect.transform(X_val_orig)"
   ]
  },
  {
   "cell_type": "markdown",
   "metadata": {},
   "source": [
    "Now for the summarised"
   ]
  },
  {
   "cell_type": "code",
   "execution_count": 205,
   "metadata": {},
   "outputs": [],
   "source": [
    "tfidf_vect2 = TfidfVectorizer(analyzer='word', max_features=1000)\n",
    "tfidf_vect2.fit(X_train_summ)\n",
    "X_train_summ_tfidf = tfidf_vect2.transform(X_train_summ)\n",
    "X_val_summ_tfidf = tfidf_vect2.transform(X_val_summ)"
   ]
  },
  {
   "cell_type": "markdown",
   "metadata": {},
   "source": [
    "### Logistic Regression"
   ]
  },
  {
   "cell_type": "code",
   "execution_count": 158,
   "metadata": {},
   "outputs": [],
   "source": [
    "from sklearn.linear_model import LogisticRegression"
   ]
  },
  {
   "cell_type": "markdown",
   "metadata": {},
   "source": [
    "#### Model built from original data"
   ]
  },
  {
   "cell_type": "code",
   "execution_count": 159,
   "metadata": {},
   "outputs": [
    {
     "data": {
      "text/plain": [
       "LogisticRegression(C=1.0, class_weight='balanced', dual=False,\n",
       "                   fit_intercept=True, intercept_scaling=1, l1_ratio=None,\n",
       "                   max_iter=500, multi_class='auto', n_jobs=3, penalty='l2',\n",
       "                   random_state=None, solver='lbfgs', tol=0.0001, verbose=0,\n",
       "                   warm_start=False)"
      ]
     },
     "execution_count": 159,
     "metadata": {},
     "output_type": "execute_result"
    }
   ],
   "source": [
    "lr_orig = LogisticRegression(C=1.0, max_iter=500, class_weight='balanced', multi_class='auto', solver='lbfgs', n_jobs=3)\n",
    "lr_orig.fit(X_train_orig_tfidf, y_train)\n",
    "\n",
    "pred_orig = lr_orig.predict(X_val_orig_tfidf)"
   ]
  },
  {
   "cell_type": "code",
   "execution_count": 209,
   "metadata": {},
   "outputs": [
    {
     "data": {
      "text/html": [
       "<div>\n",
       "<style scoped>\n",
       "    .dataframe tbody tr th:only-of-type {\n",
       "        vertical-align: middle;\n",
       "    }\n",
       "\n",
       "    .dataframe tbody tr th {\n",
       "        vertical-align: top;\n",
       "    }\n",
       "\n",
       "    .dataframe thead th {\n",
       "        text-align: right;\n",
       "    }\n",
       "</style>\n",
       "<table border=\"1\" class=\"dataframe\">\n",
       "  <thead>\n",
       "    <tr style=\"text-align: right;\">\n",
       "      <th></th>\n",
       "      <th>Bank account or service</th>\n",
       "      <th>Consumer Loan</th>\n",
       "      <th>Credit card or prepaid card</th>\n",
       "      <th>Credit reporting, credit repair services, or other personal consumer reports</th>\n",
       "      <th>Debt collection</th>\n",
       "      <th>Money transfer, virtual currency, or money service</th>\n",
       "      <th>Mortgage</th>\n",
       "      <th>Payday loan, title loan, or personal loan</th>\n",
       "      <th>Student loan</th>\n",
       "      <th>accuracy</th>\n",
       "      <th>macro avg</th>\n",
       "      <th>weighted avg</th>\n",
       "    </tr>\n",
       "  </thead>\n",
       "  <tbody>\n",
       "    <tr>\n",
       "      <td>precision</td>\n",
       "      <td>0.762457</td>\n",
       "      <td>0.474791</td>\n",
       "      <td>0.737965</td>\n",
       "      <td>0.903889</td>\n",
       "      <td>0.812405</td>\n",
       "      <td>0.534171</td>\n",
       "      <td>0.895101</td>\n",
       "      <td>0.285767</td>\n",
       "      <td>0.764322</td>\n",
       "      <td>0.787896</td>\n",
       "      <td>0.685652</td>\n",
       "      <td>0.813922</td>\n",
       "    </tr>\n",
       "    <tr>\n",
       "      <td>recall</td>\n",
       "      <td>0.780098</td>\n",
       "      <td>0.679923</td>\n",
       "      <td>0.785111</td>\n",
       "      <td>0.757324</td>\n",
       "      <td>0.771271</td>\n",
       "      <td>0.815810</td>\n",
       "      <td>0.902716</td>\n",
       "      <td>0.675109</td>\n",
       "      <td>0.884636</td>\n",
       "      <td>0.787896</td>\n",
       "      <td>0.783555</td>\n",
       "      <td>0.787896</td>\n",
       "    </tr>\n",
       "    <tr>\n",
       "      <td>f1-score</td>\n",
       "      <td>0.771177</td>\n",
       "      <td>0.559136</td>\n",
       "      <td>0.760808</td>\n",
       "      <td>0.824141</td>\n",
       "      <td>0.791304</td>\n",
       "      <td>0.645612</td>\n",
       "      <td>0.898892</td>\n",
       "      <td>0.401558</td>\n",
       "      <td>0.820090</td>\n",
       "      <td>0.787896</td>\n",
       "      <td>0.719191</td>\n",
       "      <td>0.795722</td>\n",
       "    </tr>\n",
       "    <tr>\n",
       "      <td>support</td>\n",
       "      <td>4884.000000</td>\n",
       "      <td>2590.000000</td>\n",
       "      <td>7576.000000</td>\n",
       "      <td>23756.000000</td>\n",
       "      <td>15267.000000</td>\n",
       "      <td>1303.000000</td>\n",
       "      <td>9169.000000</td>\n",
       "      <td>1145.000000</td>\n",
       "      <td>3710.000000</td>\n",
       "      <td>0.787896</td>\n",
       "      <td>69400.000000</td>\n",
       "      <td>69400.000000</td>\n",
       "    </tr>\n",
       "  </tbody>\n",
       "</table>\n",
       "</div>"
      ],
      "text/plain": [
       "           Bank account or service  Consumer Loan  \\\n",
       "precision                 0.762457       0.474791   \n",
       "recall                    0.780098       0.679923   \n",
       "f1-score                  0.771177       0.559136   \n",
       "support                4884.000000    2590.000000   \n",
       "\n",
       "           Credit card or prepaid card  \\\n",
       "precision                     0.737965   \n",
       "recall                        0.785111   \n",
       "f1-score                      0.760808   \n",
       "support                    7576.000000   \n",
       "\n",
       "           Credit reporting, credit repair services, or other personal consumer reports  \\\n",
       "precision                                           0.903889                              \n",
       "recall                                              0.757324                              \n",
       "f1-score                                            0.824141                              \n",
       "support                                         23756.000000                              \n",
       "\n",
       "           Debt collection  \\\n",
       "precision         0.812405   \n",
       "recall            0.771271   \n",
       "f1-score          0.791304   \n",
       "support       15267.000000   \n",
       "\n",
       "           Money transfer, virtual currency, or money service     Mortgage  \\\n",
       "precision                                           0.534171      0.895101   \n",
       "recall                                              0.815810      0.902716   \n",
       "f1-score                                            0.645612      0.898892   \n",
       "support                                          1303.000000   9169.000000   \n",
       "\n",
       "           Payday loan, title loan, or personal loan  Student loan  accuracy  \\\n",
       "precision                                   0.285767      0.764322  0.787896   \n",
       "recall                                      0.675109      0.884636  0.787896   \n",
       "f1-score                                    0.401558      0.820090  0.787896   \n",
       "support                                  1145.000000   3710.000000  0.787896   \n",
       "\n",
       "              macro avg  weighted avg  \n",
       "precision      0.685652      0.813922  \n",
       "recall         0.783555      0.787896  \n",
       "f1-score       0.719191      0.795722  \n",
       "support    69400.000000  69400.000000  "
      ]
     },
     "execution_count": 209,
     "metadata": {},
     "output_type": "execute_result"
    }
   ],
   "source": [
    "orig_report_df = pd.DataFrame(classification_report(y_val, pred_orig, output_dict=True)).T"
   ]
  },
  {
   "cell_type": "markdown",
   "metadata": {},
   "source": [
    "#### Model built from summaries only"
   ]
  },
  {
   "cell_type": "code",
   "execution_count": 206,
   "metadata": {},
   "outputs": [
    {
     "data": {
      "text/plain": [
       "LogisticRegression(C=1.0, class_weight='balanced', dual=False,\n",
       "                   fit_intercept=True, intercept_scaling=1, l1_ratio=None,\n",
       "                   max_iter=500, multi_class='auto', n_jobs=3, penalty='l2',\n",
       "                   random_state=None, solver='lbfgs', tol=0.0001, verbose=0,\n",
       "                   warm_start=False)"
      ]
     },
     "execution_count": 206,
     "metadata": {},
     "output_type": "execute_result"
    }
   ],
   "source": [
    "lr_summ = LogisticRegression(C=1.0, max_iter=500, class_weight='balanced', multi_class='auto', \n",
    "                             solver='lbfgs', n_jobs=3)\n",
    "lr_summ.fit(X_train_summ_tfidf, y_train)\n",
    "pred_summ = lr_summ.predict(X_val_summ_tfidf)\n"
   ]
  },
  {
   "cell_type": "code",
   "execution_count": 208,
   "metadata": {},
   "outputs": [
    {
     "data": {
      "text/html": [
       "<div>\n",
       "<style scoped>\n",
       "    .dataframe tbody tr th:only-of-type {\n",
       "        vertical-align: middle;\n",
       "    }\n",
       "\n",
       "    .dataframe tbody tr th {\n",
       "        vertical-align: top;\n",
       "    }\n",
       "\n",
       "    .dataframe thead th {\n",
       "        text-align: right;\n",
       "    }\n",
       "</style>\n",
       "<table border=\"1\" class=\"dataframe\">\n",
       "  <thead>\n",
       "    <tr style=\"text-align: right;\">\n",
       "      <th></th>\n",
       "      <th>precision</th>\n",
       "      <th>recall</th>\n",
       "      <th>f1-score</th>\n",
       "      <th>support</th>\n",
       "    </tr>\n",
       "  </thead>\n",
       "  <tbody>\n",
       "    <tr>\n",
       "      <td>Bank account or service</td>\n",
       "      <td>0.752633</td>\n",
       "      <td>0.775594</td>\n",
       "      <td>0.763941</td>\n",
       "      <td>4884.000000</td>\n",
       "    </tr>\n",
       "    <tr>\n",
       "      <td>Consumer Loan</td>\n",
       "      <td>0.452551</td>\n",
       "      <td>0.661004</td>\n",
       "      <td>0.537267</td>\n",
       "      <td>2590.000000</td>\n",
       "    </tr>\n",
       "    <tr>\n",
       "      <td>Credit card or prepaid card</td>\n",
       "      <td>0.728854</td>\n",
       "      <td>0.774551</td>\n",
       "      <td>0.751008</td>\n",
       "      <td>7576.000000</td>\n",
       "    </tr>\n",
       "    <tr>\n",
       "      <td>Credit reporting, credit repair services, or other personal consumer reports</td>\n",
       "      <td>0.902238</td>\n",
       "      <td>0.751726</td>\n",
       "      <td>0.820134</td>\n",
       "      <td>23756.000000</td>\n",
       "    </tr>\n",
       "    <tr>\n",
       "      <td>Debt collection</td>\n",
       "      <td>0.808282</td>\n",
       "      <td>0.767145</td>\n",
       "      <td>0.787176</td>\n",
       "      <td>15267.000000</td>\n",
       "    </tr>\n",
       "    <tr>\n",
       "      <td>Money transfer, virtual currency, or money service</td>\n",
       "      <td>0.521182</td>\n",
       "      <td>0.811972</td>\n",
       "      <td>0.634863</td>\n",
       "      <td>1303.000000</td>\n",
       "    </tr>\n",
       "    <tr>\n",
       "      <td>Mortgage</td>\n",
       "      <td>0.889386</td>\n",
       "      <td>0.889192</td>\n",
       "      <td>0.889289</td>\n",
       "      <td>9169.000000</td>\n",
       "    </tr>\n",
       "    <tr>\n",
       "      <td>Payday loan, title loan, or personal loan</td>\n",
       "      <td>0.278490</td>\n",
       "      <td>0.663755</td>\n",
       "      <td>0.392359</td>\n",
       "      <td>1145.000000</td>\n",
       "    </tr>\n",
       "    <tr>\n",
       "      <td>Student loan</td>\n",
       "      <td>0.750925</td>\n",
       "      <td>0.875202</td>\n",
       "      <td>0.808315</td>\n",
       "      <td>3710.000000</td>\n",
       "    </tr>\n",
       "    <tr>\n",
       "      <td>accuracy</td>\n",
       "      <td>0.780346</td>\n",
       "      <td>0.780346</td>\n",
       "      <td>0.780346</td>\n",
       "      <td>0.780346</td>\n",
       "    </tr>\n",
       "    <tr>\n",
       "      <td>macro avg</td>\n",
       "      <td>0.676060</td>\n",
       "      <td>0.774460</td>\n",
       "      <td>0.709372</td>\n",
       "      <td>69400.000000</td>\n",
       "    </tr>\n",
       "    <tr>\n",
       "      <td>weighted avg</td>\n",
       "      <td>0.808099</td>\n",
       "      <td>0.780346</td>\n",
       "      <td>0.788795</td>\n",
       "      <td>69400.000000</td>\n",
       "    </tr>\n",
       "  </tbody>\n",
       "</table>\n",
       "</div>"
      ],
      "text/plain": [
       "                                                    precision    recall  \\\n",
       "Bank account or service                              0.752633  0.775594   \n",
       "Consumer Loan                                        0.452551  0.661004   \n",
       "Credit card or prepaid card                          0.728854  0.774551   \n",
       "Credit reporting, credit repair services, or ot...   0.902238  0.751726   \n",
       "Debt collection                                      0.808282  0.767145   \n",
       "Money transfer, virtual currency, or money service   0.521182  0.811972   \n",
       "Mortgage                                             0.889386  0.889192   \n",
       "Payday loan, title loan, or personal loan            0.278490  0.663755   \n",
       "Student loan                                         0.750925  0.875202   \n",
       "accuracy                                             0.780346  0.780346   \n",
       "macro avg                                            0.676060  0.774460   \n",
       "weighted avg                                         0.808099  0.780346   \n",
       "\n",
       "                                                    f1-score       support  \n",
       "Bank account or service                             0.763941   4884.000000  \n",
       "Consumer Loan                                       0.537267   2590.000000  \n",
       "Credit card or prepaid card                         0.751008   7576.000000  \n",
       "Credit reporting, credit repair services, or ot...  0.820134  23756.000000  \n",
       "Debt collection                                     0.787176  15267.000000  \n",
       "Money transfer, virtual currency, or money service  0.634863   1303.000000  \n",
       "Mortgage                                            0.889289   9169.000000  \n",
       "Payday loan, title loan, or personal loan           0.392359   1145.000000  \n",
       "Student loan                                        0.808315   3710.000000  \n",
       "accuracy                                            0.780346      0.780346  \n",
       "macro avg                                           0.709372  69400.000000  \n",
       "weighted avg                                        0.788795  69400.000000  "
      ]
     },
     "execution_count": 208,
     "metadata": {},
     "output_type": "execute_result"
    }
   ],
   "source": [
    "report_summ = pd.DataFrame.from_dict(classification_report(y_val, pred_summ, output_dict=True)).T"
   ]
  },
  {
   "cell_type": "markdown",
   "metadata": {},
   "source": [
    "### Summary:\n",
    "So there is a slight decrease in model performance, but not significant enough to warrant serious attention: accuracy drops from 79% to 78%, even though we are only taking the top 5 relevant sentences."
   ]
  },
  {
   "cell_type": "markdown",
   "metadata": {},
   "source": [
    "Save models"
   ]
  },
  {
   "cell_type": "code",
   "execution_count": 160,
   "metadata": {},
   "outputs": [],
   "source": [
    "import pickle\n",
    "\n",
    "models = {'lr_orig': lr, 'lr_summ': lr_summ, 'tfidf_orig': tfidf_vect, 'tfidf_summ': tfidf_vect2}\n",
    "\n",
    "with open('../models/linear_regression/lr_5_sent.pickle', 'wb') as f:\n",
    "    pickle.dump(models, f, pickle.HIGHEST_PROTOCOL)"
   ]
  }
 ],
 "metadata": {
  "kernelspec": {
   "display_name": "Python 3",
   "language": "python",
   "name": "python3"
  },
  "language_info": {
   "codemirror_mode": {
    "name": "ipython",
    "version": 3
   },
   "file_extension": ".py",
   "mimetype": "text/x-python",
   "name": "python",
   "nbconvert_exporter": "python",
   "pygments_lexer": "ipython3",
   "version": "3.7.3"
  }
 },
 "nbformat": 4,
 "nbformat_minor": 2
}
