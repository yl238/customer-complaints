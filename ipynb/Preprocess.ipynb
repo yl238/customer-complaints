{
 "cells": [
  {
   "cell_type": "code",
   "execution_count": 1,
   "metadata": {},
   "outputs": [],
   "source": [
    "%matplotlib inline\n",
    "%load_ext autoreload\n",
    "%autoreload 2"
   ]
  },
  {
   "cell_type": "code",
   "execution_count": 2,
   "metadata": {},
   "outputs": [],
   "source": [
    "import re\n",
    "import numpy as np\n",
    "import pandas as pd\n",
    "import nltk\n",
    "from nltk.corpus import stopwords\n",
    "from nltk.stem import WordNetLemmatizer"
   ]
  },
  {
   "cell_type": "code",
   "execution_count": 3,
   "metadata": {},
   "outputs": [],
   "source": [
    "import os\n",
    "import sys\n",
    "module_path = os.path.abspath(os.path.join('..'))\n",
    "if module_path not in sys.path:\n",
    "    sys.path.append(module_path)"
   ]
  },
  {
   "cell_type": "code",
   "execution_count": 4,
   "metadata": {},
   "outputs": [],
   "source": [
    "from preprocess.clean_text import TextClean"
   ]
  },
  {
   "cell_type": "code",
   "execution_count": 5,
   "metadata": {},
   "outputs": [],
   "source": [
    "def gen_model_data(df, subset=None, features=None, lowercase=True, min_sentence_length=5):\n",
    "    \"\"\"\n",
    "    Drop rows with NaNs in 'Product', 'Issue', 'Date' \n",
    "    and 'Consumer complaint narrative' columns.\n",
    "    \n",
    "    Create a 'clean_text' column with the \n",
    "    \"\"\"\n",
    "    df = df.dropna(subset=subset)\n",
    "    if features:\n",
    "        df = df[features]\n",
    "        \n",
    "    cleaner = TextClean(lower=lowercase, min_sentence_length=min_sentence_length)\n",
    "    text = df['Consumer complaint narrative'].values\n",
    "    cleaned_text, idx = cleaner.fit_transform(text, return_indices=True)\n",
    "    df = df.iloc[idx, :]\n",
    "    df['cleaned_text'] = cleaned_text\n",
    "    return df"
   ]
  },
  {
   "cell_type": "code",
   "execution_count": 6,
   "metadata": {},
   "outputs": [],
   "source": [
    "complaints_file = '../data/Consumer_Complaints.csv'"
   ]
  },
  {
   "cell_type": "code",
   "execution_count": 7,
   "metadata": {},
   "outputs": [],
   "source": [
    "df = pd.read_csv(complaints_file, low_memory=False)"
   ]
  },
  {
   "cell_type": "code",
   "execution_count": 13,
   "metadata": {},
   "outputs": [],
   "source": [
    "full_features = list(df.columns)"
   ]
  },
  {
   "cell_type": "code",
   "execution_count": 14,
   "metadata": {},
   "outputs": [],
   "source": [
    "features = ['Date received', 'Product', 'Issue', \n",
    "       'Consumer complaint narrative', 'Company public response', 'Company',\n",
    "       'Submitted via', 'Date sent to company', 'Company response to consumer',\n",
    "       'Timely response?', 'Consumer disputed?', 'Complaint ID']\n",
    "subset = ['Product', 'Issue', 'Date sent to company', 'Consumer complaint narrative']\n"
   ]
  },
  {
   "cell_type": "code",
   "execution_count": 15,
   "metadata": {},
   "outputs": [],
   "source": [
    "valid_df = gen_model_data(df, subset=subset, features=features)\n",
    "valid_df.to_csv('../data/cleaned_text.csv', index=False)"
   ]
  }
 ],
 "metadata": {
  "kernelspec": {
   "display_name": "Python 3",
   "language": "python",
   "name": "python3"
  },
  "language_info": {
   "codemirror_mode": {
    "name": "ipython",
    "version": 3
   },
   "file_extension": ".py",
   "mimetype": "text/x-python",
   "name": "python",
   "nbconvert_exporter": "python",
   "pygments_lexer": "ipython3",
   "version": "3.7.3"
  }
 },
 "nbformat": 4,
 "nbformat_minor": 2
}
