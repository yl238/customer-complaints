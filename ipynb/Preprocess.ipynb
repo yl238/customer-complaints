{
 "cells": [
  {
   "cell_type": "code",
   "execution_count": 4,
   "metadata": {},
   "outputs": [],
   "source": [
    "%matplotlib inline\n",
    "%load_ext autoreload\n",
    "%autoreload 2"
   ]
  },
  {
   "cell_type": "code",
   "execution_count": 5,
   "metadata": {},
   "outputs": [],
   "source": [
    "import re\n",
    "import numpy as np\n",
    "import pandas as pd\n",
    "import nltk\n",
    "from nltk.corpus import stopwords\n",
    "from nltk.stem import WordNetLemmatizer"
   ]
  },
  {
   "cell_type": "code",
   "execution_count": 14,
   "metadata": {},
   "outputs": [],
   "source": [
    "import warnings\n",
    "warnings.filterwarnings('ignore')"
   ]
  },
  {
   "cell_type": "code",
   "execution_count": 6,
   "metadata": {},
   "outputs": [],
   "source": [
    "import os\n",
    "import sys\n",
    "module_path = os.path.abspath(os.path.join('..'))\n",
    "if module_path not in sys.path:\n",
    "    sys.path.append(module_path)"
   ]
  },
  {
   "cell_type": "code",
   "execution_count": 7,
   "metadata": {},
   "outputs": [],
   "source": [
    "from preprocess.clean_text import TextClean"
   ]
  },
  {
   "cell_type": "code",
   "execution_count": 1,
   "metadata": {},
   "outputs": [],
   "source": [
    "def gen_model_data(df, subset=None, features=None, lowercase=True, min_sentence_length=5):\n",
    "    \"\"\"\n",
    "    Drop rows with NaNs in 'Product', 'Issue', 'Date' \n",
    "    and 'Consumer complaint narrative' columns.\n",
    "    \"\"\"\n",
    "    df = df.dropna(subset=subset)\n",
    "    if features:\n",
    "        df = df[features]\n",
    "    return df"
   ]
  },
  {
   "cell_type": "code",
   "execution_count": 8,
   "metadata": {},
   "outputs": [],
   "source": [
    "complaints_file = '../data/Consumer_Complaints.csv'"
   ]
  },
  {
   "cell_type": "code",
   "execution_count": 9,
   "metadata": {},
   "outputs": [],
   "source": [
    "df = pd.read_csv(complaints_file, low_memory=False)"
   ]
  },
  {
   "cell_type": "code",
   "execution_count": 67,
   "metadata": {},
   "outputs": [],
   "source": [
    "subset = ['Product', 'Issue', 'Date sent to company', 'Consumer complaint narrative']\n",
    "df = gen_model_data(df, subset=subset)"
   ]
  },
  {
   "cell_type": "markdown",
   "metadata": {},
   "source": [
    "### Merge some of the fields together\n",
    "- Payday loans with the rest of the loans"
   ]
  },
  {
   "cell_type": "code",
   "execution_count": 68,
   "metadata": {},
   "outputs": [],
   "source": [
    "main_type = 'Payday loan, title loan, or personal loan'\n",
    "subset_type = 'Payday loan'\n",
    "subset = df[df.Product == subset_type]\n",
    "subset['Sub-product'] = subset_type\n",
    "subset['Product'] = main_type\n",
    "main_set = df[df.Product == main_type]\n",
    "\n",
    "loans = pd.concat([subset, main_set])"
   ]
  },
  {
   "cell_type": "code",
   "execution_count": 69,
   "metadata": {},
   "outputs": [],
   "source": [
    "main_type = 'Credit card or prepaid card'\n",
    "subset_type = 'Credit card'\n",
    "subset = df[df.Product == subset_type]\n",
    "subset['Sub-product'] = subset_type\n",
    "subset['Product'] = main_type\n",
    "main_set = df[df.Product == main_type]\n",
    "credit = pd.concat([subset, main_set])\n",
    "\n",
    "subset = df[df.Product == 'Prepaid card']\n",
    "credit = pd.concat([subset, credit])\n",
    "credit['Product'] = main_type"
   ]
  },
  {
   "cell_type": "code",
   "execution_count": 70,
   "metadata": {},
   "outputs": [],
   "source": [
    "main_type = 'Consumer Loan'\n",
    "subset_type = 'Vehicle loan or lease'\n",
    "vehicles = df[df.Product == subset_type]\n",
    "\n",
    "loan_types = []\n",
    "for old, new in [('Loan', 'Vehicle loan'), ('Lease', 'Vehicle lease'), ('Title loan', 'Title loan')]:\n",
    "    idx = vehicles[(vehicles['Sub-product'] == old)]\n",
    "    idx['Sub-product'] = new\n",
    "    loan_types.append(idx)\n",
    "vehicles = pd.concat(loan_types)\n",
    "\n",
    "consumer_loans = df[df.Product == main_type]\n",
    "consumer_loans = pd.concat([vehicles, consumer_loans])\n",
    "consumer_loans['Product'] = main_type"
   ]
  },
  {
   "cell_type": "code",
   "execution_count": 78,
   "metadata": {},
   "outputs": [],
   "source": [
    "main_type = 'Money transfer, virtual currency, or money service'\n",
    "subset_type1 = 'Virtual currency'\n",
    "subset_type2 = 'Money transfers'\n",
    "transfer = df[df.Product == main_type]\n",
    "subset1 = df[df.Product == subset_type1]\n",
    "subset2 = df[df.Product == subset_type2]\n",
    "\n",
    "transfer = pd.concat([subset1, subset2, transfer])\n",
    "transfer['Product'] = main_type"
   ]
  },
  {
   "cell_type": "code",
   "execution_count": 79,
   "metadata": {},
   "outputs": [],
   "source": [
    "main_type = 'Credit reporting, credit repair services, or other personal consumer reports'\n",
    "subset_type = 'Credit reporting'\n",
    "subset = df[df.Product == subset_type]\n",
    "subset['Sub-product'] = subset_type\n",
    "subset['Product'] = main_type\n",
    "main_set = df[df.Product == main_type]\n",
    "reporting = pd.concat([subset, main_set])"
   ]
  },
  {
   "cell_type": "code",
   "execution_count": 80,
   "metadata": {},
   "outputs": [],
   "source": [
    "main_type = 'Bank account or service'\n",
    "subset_type = 'Checking or savings account'\n",
    "main_set = df[df.Product == main_type]\n",
    "subset = df[df.Product == subset_type]\n",
    "\n",
    "banking = pd.concat([main_set, subset])\n",
    "banking['Product'] = main_type"
   ]
  },
  {
   "cell_type": "code",
   "execution_count": 81,
   "metadata": {},
   "outputs": [
    {
     "data": {
      "text/plain": [
       "array(['Credit reporting, credit repair services, or other personal consumer reports',\n",
       "       'Debt collection', 'Mortgage', 'Checking or savings account',\n",
       "       'Credit card or prepaid card', 'Vehicle loan or lease',\n",
       "       'Payday loan, title loan, or personal loan', 'Student loan',\n",
       "       'Money transfer, virtual currency, or money service',\n",
       "       'Credit reporting', 'Credit card', 'Bank account or service',\n",
       "       'Consumer Loan', 'Money transfers', 'Prepaid card', 'Payday loan',\n",
       "       'Other financial service', 'Virtual currency'], dtype=object)"
      ]
     },
     "execution_count": 81,
     "metadata": {},
     "output_type": "execute_result"
    }
   ],
   "source": [
    "all_types = df['Product'].unique()\n",
    "all_types"
   ]
  },
  {
   "cell_type": "code",
   "execution_count": 82,
   "metadata": {},
   "outputs": [],
   "source": [
    "not_modified = df[df.Product.isin(['Debt collection', 'Mortgage', 'Student loan','Other financial service'])]\n",
    "merged = pd.concat([not_modified, loans, credit, consumer_loans, transfer, reporting, banking])"
   ]
  },
  {
   "cell_type": "code",
   "execution_count": 83,
   "metadata": {},
   "outputs": [
    {
     "data": {
      "text/plain": [
       "434037"
      ]
     },
     "execution_count": 83,
     "metadata": {},
     "output_type": "execute_result"
    }
   ],
   "source": [
    "len(merged)"
   ]
  },
  {
   "cell_type": "code",
   "execution_count": 85,
   "metadata": {},
   "outputs": [],
   "source": [
    "merged.to_csv('../data/regrouped.csv', index=False)"
   ]
  },
  {
   "cell_type": "code",
   "execution_count": null,
   "metadata": {},
   "outputs": [],
   "source": []
  }
 ],
 "metadata": {
  "kernelspec": {
   "display_name": "Python 3",
   "language": "python",
   "name": "python3"
  },
  "language_info": {
   "codemirror_mode": {
    "name": "ipython",
    "version": 3
   },
   "file_extension": ".py",
   "mimetype": "text/x-python",
   "name": "python",
   "nbconvert_exporter": "python",
   "pygments_lexer": "ipython3",
   "version": "3.7.3"
  }
 },
 "nbformat": 4,
 "nbformat_minor": 2
}
