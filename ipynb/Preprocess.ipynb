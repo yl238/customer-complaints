{
 "cells": [
  {
   "cell_type": "markdown",
   "metadata": {},
   "source": [
    "## Consumer Complaints Dataset\n",
    "### 1. Preprocessing\n",
    "The categories ('Product' field) of the complaints are often subsets of one another, for example data under the product 'Credit card' could also be classified under 'Credit Card, Prepaid Card'. We merge data of this type together to create fewer Products but more Sub-products. We would like to predict sub-products once the initial pass is done."
   ]
  },
  {
   "cell_type": "code",
   "execution_count": 2,
   "metadata": {},
   "outputs": [],
   "source": [
    "%matplotlib inline\n",
    "%load_ext autoreload\n",
    "%autoreload 2"
   ]
  },
  {
   "cell_type": "code",
   "execution_count": 3,
   "metadata": {},
   "outputs": [],
   "source": [
    "import re\n",
    "import numpy as np\n",
    "import pandas as pd"
   ]
  },
  {
   "cell_type": "code",
   "execution_count": 4,
   "metadata": {},
   "outputs": [],
   "source": [
    "import warnings\n",
    "warnings.filterwarnings('ignore')"
   ]
  },
  {
   "cell_type": "code",
   "execution_count": 5,
   "metadata": {},
   "outputs": [],
   "source": [
    "import os\n",
    "import sys\n",
    "module_path = os.path.abspath(os.path.join('..'))\n",
    "if module_path not in sys.path:\n",
    "    sys.path.append(module_path)"
   ]
  },
  {
   "cell_type": "code",
   "execution_count": 41,
   "metadata": {},
   "outputs": [],
   "source": [
    "def gen_model_data(df, subset=None, features=None):\n",
    "    \"\"\"\n",
    "    Drop rows with NaNs in 'Product', 'Issue', 'Date' \n",
    "    and 'Consumer complaint narrative' columns.\n",
    "    \"\"\"\n",
    "    df = df.dropna(subset=subset)\n",
    "    if features:\n",
    "        df = df[features]\n",
    "    return df"
   ]
  },
  {
   "cell_type": "code",
   "execution_count": 42,
   "metadata": {},
   "outputs": [],
   "source": [
    "complaints_file = '../data/Consumer_Complaints.csv'"
   ]
  },
  {
   "cell_type": "code",
   "execution_count": 43,
   "metadata": {},
   "outputs": [],
   "source": [
    "df = pd.read_csv(complaints_file, low_memory=False)"
   ]
  },
  {
   "cell_type": "code",
   "execution_count": 45,
   "metadata": {},
   "outputs": [],
   "source": [
    "subset = ['Product', 'Issue', 'Consumer complaint narrative']\n",
    "df = gen_model_data(df, subset=subset)"
   ]
  },
  {
   "cell_type": "markdown",
   "metadata": {},
   "source": [
    "### Merge some of the fields together"
   ]
  },
  {
   "cell_type": "code",
   "execution_count": 48,
   "metadata": {},
   "outputs": [],
   "source": [
    "df.to_csv('../data/with_narrative.csv', index=False)"
   ]
  },
  {
   "cell_type": "code",
   "execution_count": 47,
   "metadata": {},
   "outputs": [
    {
     "data": {
      "text/plain": [
       "Credit reporting, credit repair services, or other personal consumer reports    119283\n",
       "Debt collection                                                                  96750\n",
       "Mortgage                                                                         57416\n",
       "Credit reporting                                                                 31588\n",
       "Credit card or prepaid card                                                      26803\n",
       "Student loan                                                                     23557\n",
       "Credit card                                                                      18838\n",
       "Checking or savings account                                                      16136\n",
       "Bank account or service                                                          14885\n",
       "Consumer Loan                                                                     9473\n",
       "Vehicle loan or lease                                                             6940\n",
       "Money transfer, virtual currency, or money service                                6623\n",
       "Payday loan, title loan, or personal loan                                         5366\n",
       "Payday loan                                                                       1747\n",
       "Money transfers                                                                   1497\n",
       "Prepaid card                                                                      1450\n",
       "Other financial service                                                            292\n",
       "Virtual currency                                                                    16\n",
       "Name: Product, dtype: int64"
      ]
     },
     "execution_count": 47,
     "metadata": {},
     "output_type": "execute_result"
    }
   ],
   "source": [
    "df.Product.value_counts()"
   ]
  },
  {
   "cell_type": "code",
   "execution_count": 49,
   "metadata": {},
   "outputs": [],
   "source": [
    "def merge_products(df):\n",
    "    # Merge Payday loan with other loans\n",
    "    main_type = 'Payday loan, title loan, or personal loan'\n",
    "    subset_type = 'Payday loan'\n",
    "    subset = df[df.Product == subset_type]\n",
    "    subset['Sub-product'] = subset_type\n",
    "    subset['Product'] = main_type\n",
    "    main_set = df[df.Product == main_type]\n",
    "    loans = pd.concat([subset, main_set])\n",
    "    \n",
    "    # Credit card\n",
    "    main_type = 'Credit card or prepaid card'\n",
    "    subset_type = 'Credit card'\n",
    "    subset = df[df.Product == subset_type]\n",
    "    subset['Sub-product'] = subset_type\n",
    "    subset['Product'] = main_type\n",
    "    main_set = df[df.Product == main_type]\n",
    "    credit = pd.concat([subset, main_set])\n",
    "\n",
    "    subset = df[df.Product == 'Prepaid card']\n",
    "    credit = pd.concat([subset, credit])\n",
    "    credit['Product'] = main_type\n",
    "    \n",
    "    # Merge vehicle loan with consumer loans\n",
    "    main_type = 'Consumer Loan'\n",
    "    subset_type = 'Vehicle loan or lease'\n",
    "    vehicles = df[df.Product == subset_type]\n",
    "\n",
    "    loan_types = []\n",
    "    for old, new in [('Loan', 'Vehicle loan'), ('Lease', 'Vehicle lease'), ('Title loan', 'Title loan')]:\n",
    "        idx = vehicles[(vehicles['Sub-product'] == old)]\n",
    "        idx['Sub-product'] = new\n",
    "        loan_types.append(idx)\n",
    "    vehicles = pd.concat(loan_types)\n",
    "\n",
    "    consumer_loans = df[df.Product == main_type]\n",
    "    consumer_loans = pd.concat([vehicles, consumer_loans])\n",
    "    consumer_loans['Product'] = main_type\n",
    "    \n",
    "    \n",
    "    # Merge virtual currency and Money transfer\n",
    "    main_type = 'Money transfer, virtual currency, or money service'\n",
    "    subset_type1 = 'Virtual currency'\n",
    "    subset_type2 = 'Money transfers'\n",
    "    transfer = df[df.Product == main_type]\n",
    "    subset1 = df[df.Product == subset_type1]\n",
    "    subset2 = df[df.Product == subset_type2]\n",
    "\n",
    "    transfer = pd.concat([subset1, subset2, transfer])\n",
    "    transfer['Product'] = main_type\n",
    "    \n",
    "    # Reporting\n",
    "    main_type = 'Credit reporting, credit repair services, or other personal consumer reports'\n",
    "    subset_type = 'Credit reporting'\n",
    "    subset = df[df.Product == subset_type]\n",
    "    subset['Sub-product'] = subset_type\n",
    "    subset['Product'] = main_type\n",
    "    main_set = df[df.Product == main_type]\n",
    "    reporting = pd.concat([subset, main_set])\n",
    "    \n",
    "    # Banking service\n",
    "    main_type = 'Bank account or service'\n",
    "    subset_type = 'Checking or savings account'\n",
    "    main_set = df[df.Product == main_type]\n",
    "    subset = df[df.Product == subset_type]\n",
    "\n",
    "    banking = pd.concat([main_set, subset])\n",
    "    banking['Product'] = main_type\n",
    "    \n",
    "    not_modified = df[df.Product.isin(['Debt collection', 'Mortgage', 'Student loan','Other financial service'])]\n",
    "    return pd.concat([not_modified, loans, credit, consumer_loans, transfer, reporting, banking])"
   ]
  },
  {
   "cell_type": "code",
   "execution_count": 50,
   "metadata": {},
   "outputs": [],
   "source": [
    "merged = reset_labels(df)"
   ]
  },
  {
   "cell_type": "code",
   "execution_count": 51,
   "metadata": {},
   "outputs": [
    {
     "data": {
      "text/plain": [
       "Index(['Credit reporting, credit repair services, or other personal consumer reports',\n",
       "       'Debt collection', 'Mortgage', 'Credit card or prepaid card',\n",
       "       'Bank account or service', 'Student loan', 'Consumer Loan',\n",
       "       'Money transfer, virtual currency, or money service',\n",
       "       'Payday loan, title loan, or personal loan', 'Other financial service'],\n",
       "      dtype='object')"
      ]
     },
     "execution_count": 51,
     "metadata": {},
     "output_type": "execute_result"
    }
   ],
   "source": [
    "merged['Product'].value_counts().keys()"
   ]
  },
  {
   "cell_type": "code",
   "execution_count": 52,
   "metadata": {},
   "outputs": [],
   "source": [
    "abbrev_map = {'Credit reporting, credit repair services, or other personal consumer reports': 'CR',\n",
    "                'Debt collection': 'DC', \n",
    "                'Mortgage': 'MO', \n",
    "                'Credit card or prepaid card': 'CC',\n",
    "                'Bank account or service': 'BS', \n",
    "                'Student loan': 'SL', \n",
    "                'Consumer Loan': 'CL', \n",
    "                'Money transfer, virtual currency, or money service' :'MT', \n",
    "                'Payday loan, title loan, or personal loan': 'PL', \n",
    "                'Other financial service': 'OT'}"
   ]
  },
  {
   "cell_type": "code",
   "execution_count": 53,
   "metadata": {},
   "outputs": [],
   "source": [
    "def map_abbrev(val):\n",
    "    return abbrev_map[val]"
   ]
  },
  {
   "cell_type": "code",
   "execution_count": 54,
   "metadata": {},
   "outputs": [],
   "source": [
    "merged['Abbrev'] = merged['Product'].apply(map_abbrev)"
   ]
  },
  {
   "cell_type": "code",
   "execution_count": 55,
   "metadata": {},
   "outputs": [
    {
     "data": {
      "text/plain": [
       "Credit reporting, credit repair services, or other personal consumer reports    150871\n",
       "Debt collection                                                                  96750\n",
       "Mortgage                                                                         57416\n",
       "Credit card or prepaid card                                                      47091\n",
       "Bank account or service                                                          31021\n",
       "Student loan                                                                     23557\n",
       "Consumer Loan                                                                    16413\n",
       "Money transfer, virtual currency, or money service                                8136\n",
       "Payday loan, title loan, or personal loan                                         7113\n",
       "Other financial service                                                            292\n",
       "Name: Product, dtype: int64"
      ]
     },
     "execution_count": 55,
     "metadata": {},
     "output_type": "execute_result"
    }
   ],
   "source": [
    "merged['Product'].value_counts()"
   ]
  },
  {
   "cell_type": "code",
   "execution_count": 56,
   "metadata": {},
   "outputs": [],
   "source": [
    "merged.to_csv('../data/product_merged.csv', index=False)"
   ]
  }
 ],
 "metadata": {
  "kernelspec": {
   "display_name": "Python 3",
   "language": "python",
   "name": "python3"
  },
  "language_info": {
   "codemirror_mode": {
    "name": "ipython",
    "version": 3
   },
   "file_extension": ".py",
   "mimetype": "text/x-python",
   "name": "python",
   "nbconvert_exporter": "python",
   "pygments_lexer": "ipython3",
   "version": "3.7.3"
  }
 },
 "nbformat": 4,
 "nbformat_minor": 2
}
