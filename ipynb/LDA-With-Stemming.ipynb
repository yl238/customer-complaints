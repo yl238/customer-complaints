{
 "cells": [
  {
   "cell_type": "code",
   "execution_count": 1,
   "metadata": {},
   "outputs": [],
   "source": [
    "%load_ext autoreload\n",
    "%autoreload 2"
   ]
  },
  {
   "cell_type": "code",
   "execution_count": 2,
   "metadata": {},
   "outputs": [],
   "source": [
    "import re\n",
    "import time\n",
    "import numpy as np\n",
    "import pandas as pd\n",
    "import datetime\n",
    "import matplotlib.pyplot as plt\n",
    "\n",
    "import os, sys\n",
    "module_path = os.path.abspath(os.path.join('..'))\n",
    "if module_path not in sys.path:\n",
    "    sys.path.append(module_path)"
   ]
  },
  {
   "cell_type": "code",
   "execution_count": 7,
   "metadata": {},
   "outputs": [],
   "source": [
    "import nltk\n",
    "from nltk.stem.snowball import SnowballStemmer\n",
    "\n",
    "import spacy\n",
    "nlp = spacy.load(\"en_core_web_sm\")"
   ]
  },
  {
   "cell_type": "code",
   "execution_count": 8,
   "metadata": {},
   "outputs": [],
   "source": [
    "stemmer = SnowballStemmer(language='english')"
   ]
  },
  {
   "cell_type": "code",
   "execution_count": 5,
   "metadata": {},
   "outputs": [],
   "source": [
    "df = pd.read_csv('../data/for_issue_lda.csv')"
   ]
  },
  {
   "cell_type": "code",
   "execution_count": 30,
   "metadata": {},
   "outputs": [],
   "source": [
    "df['cleaned'] = df['cleaned'].astype(str)"
   ]
  },
  {
   "cell_type": "code",
   "execution_count": 31,
   "metadata": {},
   "outputs": [],
   "source": [
    "def stemming(doc):\n",
    "    doc = nlp(doc, disable=['parser', 'tagger'])\n",
    "    return ' '.join(' '.join(stemmer.stem(token.text) if not token.is_stop else '' for token in doc).split())"
   ]
  },
  {
   "cell_type": "code",
   "execution_count": 32,
   "metadata": {},
   "outputs": [
    {
     "name": "stdout",
     "output_type": "stream",
     "text": [
      "Total time = 4628.729872703552s\n"
     ]
    }
   ],
   "source": [
    "t0 = time.time()\n",
    "stemmed = df['cleaned'].apply(stemming)\n",
    "print('Total time = {}s'.format(time.time()-t0))"
   ]
  },
  {
   "cell_type": "code",
   "execution_count": 34,
   "metadata": {},
   "outputs": [],
   "source": [
    "df['stemmed'] = stemmed"
   ]
  },
  {
   "cell_type": "code",
   "execution_count": 35,
   "metadata": {},
   "outputs": [],
   "source": [
    "df.to_csv('../data/for_issue_lda_with_stemmed.csv', index=False)"
   ]
  },
  {
   "cell_type": "code",
   "execution_count": 36,
   "metadata": {},
   "outputs": [],
   "source": [
    "import pickle\n",
    "from sklearn.feature_extraction.text import CountVectorizer\n",
    "vectorizer = CountVectorizer(max_features=5000, ngram_range=(1, 2))\n",
    "\n",
    "X = vectorizer.fit_transform(df['stemmed'])\n"
   ]
  },
  {
   "cell_type": "code",
   "execution_count": 37,
   "metadata": {},
   "outputs": [],
   "source": [
    "from sklearn.decomposition import LatentDirichletAllocation\n",
    "\n",
    "def run_lda_expt(X, n_topics):\n",
    "    lda_model = LatentDirichletAllocation(n_components=n_topics, doc_topic_prior=0.1, \n",
    "                                          topic_word_prior=0.1, random_state=42, n_jobs=-1)\n",
    "    lda_model.fit(X)\n",
    "    # Perplexity\n",
    "    print(\"Model perplexity: {}\".format(lda_model.perplexity(X)))\n",
    "    with open('../output/lda_stemmed_{}_topics.pickle'.format(n_topics), 'wb') as f:\n",
    "        pickle.dump(lda_model, f, pickle.HIGHEST_PROTOCOL)"
   ]
  },
  {
   "cell_type": "code",
   "execution_count": 38,
   "metadata": {},
   "outputs": [],
   "source": [
    "def print_top_words(model, feature_names, n_top_words):\n",
    "    for topic_idx, topic in enumerate(model.components_):\n",
    "        message = \"Topic #%d: \" % topic_idx\n",
    "        message += \",\".join([feature_names[i]\n",
    "                             for i in topic.argsort()[:-n_top_words - 1:-1]])\n",
    "        print(message)\n",
    "    print()"
   ]
  },
  {
   "cell_type": "code",
   "execution_count": 39,
   "metadata": {},
   "outputs": [
    {
     "name": "stdout",
     "output_type": "stream",
     "text": [
      "Model perplexity: 797.5221657453138\n",
      "Time taken: 1511.2747757434845s\n"
     ]
    }
   ],
   "source": [
    "t0 = time.time()\n",
    "run_lda_expt(X, 45)\n",
    "print('Time taken: {}s'.format(time.time()-t0))"
   ]
  },
  {
   "cell_type": "code",
   "execution_count": 41,
   "metadata": {},
   "outputs": [],
   "source": [
    "with open('../output/lda_stemmed_45_topics.pickle', 'rb') as f:\n",
    "    lda_model = pickle.load(f)"
   ]
  },
  {
   "cell_type": "code",
   "execution_count": 42,
   "metadata": {},
   "outputs": [
    {
     "name": "stdout",
     "output_type": "stream",
     "text": [
      "Topic #0: report,credit,credit report,remov,transunion,remov credit,account,bureaus,disput,item\n",
      "Topic #1: court,attorney,garnish,file,law,portfolio,recoveri,firm,case,judgement\n",
      "Topic #2: proof,contract,sign,document,provid,copi,signatur,ask,acct,sent\n",
      "Topic #3: money,account,transfer,fund,paypal,transact,day,told,access,bank\n",
      "Topic #4: loan,student,student loan,school,educ,consolid,servic,privat,feder,defer\n",
      "Topic #5: fee,late,day,time,late fee,month,payment,charg,pay,past\n",
      "Topic #6: offer,card,purchas,point,cancel,servic,month,fee,term,receiv\n",
      "Topic #7: loan,mortgag,modif,home,loan modif,foreclosur,servic,year,time,trial\n",
      "Topic #8: loan,pay,nt,help,know,want,tri,got,need,money\n",
      "Topic #9: inform,credit,report,experian,verifi,record,credit report,file,freez,public\n",
      "Topic #10: paid,account,payment,credit,report,settlement,agre,settl,account paid,balanc\n",
      "Topic #11: card,credit,credit card,appli,limit,line,card account,applic,credit limit,use\n",
      "Topic #12: state,law,attorney,note,legal,violat,feder,file,claim,document\n",
      "Topic #13: verifi,law,inform,violat,fcra,data,right,breach,requir,account\n",
      "Topic #14: call,told,phone,ask,said,time,number,spoke,contact,speak\n",
      "Topic #15: charg,card,transact,account,credit,claim,fraud,merchant,fraudul,discov\n",
      "Topic #16: mortgag,tax,insur,escrow,properti,compani,paid,pay,month,escrow account\n",
      "Topic #17: balanc,interest,statement,charg,payoff,paid,pay,total,purchas,month\n",
      "Topic #18: request,receiv,document,inform,submit,applic,review,date,day,process\n",
      "Topic #19: debt,valid,collect,account,origin,creditor,credit,alleg,report,valid debt\n",
      "Topic #20: provid,request,valid,account,act,fair,inform,credit,report,fair credit\n",
      "Topic #21: collect,agenc,bankruptci,collect agenc,file,report,credit,discharg,account,chapter\n",
      "Topic #22: complaint,financi,consum,issu,time,provid,respons,cfpb,custom,inform\n",
      "Topic #23: account,fraud,fraudul,ident,report,theft,ident theft,polic,victim,polic report\n",
      "Topic #24: report,inform,account,disput,credit,credit report,inaccur,experian,investig,delet\n",
      "Topic #25: account,close,open,close account,card,receiv,told,new,custom,account close\n",
      "Topic #26: payment,month,pay,plan,time,year,told,incom,month payment,repay\n",
      "Topic #27: car,vehicl,told,financ,said,leas,purchas,time,pay,call\n",
      "Topic #28: check,account,deposit,fee,fund,bank,check account,overdraft,day,cash\n",
      "Topic #29: credit,score,credit score,report,credit report,affect,drop,negat,point,time\n",
      "Topic #30: year,address,ago,old,year ago,live,report,account,date,year old\n",
      "Topic #31: email,servic,receiv,disput,custom,custom servic,contact,inform,issu,day\n",
      "Topic #32: home,mortgag,close,hous,sale,loan,properti,apprais,time,short\n",
      "Topic #33: compani,owe,money,credit,claim,pay,owe money,card compani,say,paid\n",
      "Topic #34: letter,sent,receiv,state,mail,receiv letter,send,sent letter,certifi,request\n",
      "Topic #35: payment,mortgag,month,statement,receiv,account,appli,servic,date,month payment\n",
      "Topic #36: inquiri,credit,author,hard,report,credit report,hard inquiri,inquir,unauthor,remov\n",
      "Topic #37: payment,late,late payment,report,credit,fix,error,auto,day,miss\n",
      "Topic #38: interest,rate,loan,interest rate,payment,princip,appli,month,year,charg\n",
      "Topic #39: consum,inform,report,agenc,block,report agenc,consum report,section,furnish,ident\n",
      "Topic #40: bill,collect,medic,pay,insur,receiv,servic,paid,hospit,apart\n",
      "Topic #41: account,report,credit,balanc,open,date,close,status,credit report,past\n",
      "Topic #42: bank,branch,bank account,pnc,account,manag,suntrust,td,inform,citizen\n",
      "Topic #43: debt,collect,compani,owe,contact,collector,call,inform,collect debt,attempt\n",
      "Topic #44: number,secur,social,social secur,account number,phone,phone number,secur number,account,system\n",
      "\n"
     ]
    }
   ],
   "source": [
    "n_top_words=10\n",
    "count_feature_names = vectorizer.get_feature_names()\n",
    "print_top_words(lda_model, count_feature_names, n_top_words)"
   ]
  },
  {
   "cell_type": "code",
   "execution_count": null,
   "metadata": {},
   "outputs": [],
   "source": []
  }
 ],
 "metadata": {
  "kernelspec": {
   "display_name": "Python 3",
   "language": "python",
   "name": "python3"
  },
  "language_info": {
   "codemirror_mode": {
    "name": "ipython",
    "version": 3
   },
   "file_extension": ".py",
   "mimetype": "text/x-python",
   "name": "python",
   "nbconvert_exporter": "python",
   "pygments_lexer": "ipython3",
   "version": "3.7.3"
  }
 },
 "nbformat": 4,
 "nbformat_minor": 2
}
