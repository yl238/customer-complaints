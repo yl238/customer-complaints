{
 "cells": [
  {
   "cell_type": "code",
   "execution_count": null,
   "metadata": {},
   "outputs": [],
   "source": [
    "%matplotlib inline\n",
    "%load_ext autoreload\n",
    "%autoreload 2"
   ]
  },
  {
   "cell_type": "code",
   "execution_count": null,
   "metadata": {},
   "outputs": [],
   "source": [
    "import pandas as pd\n",
    "import numpy as np\n",
    "import matplotlib.pyplot as plt\n",
    "import seaborn as sns \n",
    "sns.set(font_scale=1.3)"
   ]
  },
  {
   "cell_type": "markdown",
   "metadata": {},
   "source": [
    "## First Classification Model\n",
    "- Classify the different 'Product' categories"
   ]
  },
  {
   "cell_type": "code",
   "execution_count": null,
   "metadata": {},
   "outputs": [],
   "source": [
    "file = '../data/with_cleaned.csv'\n",
    "df = pd.read_csv(file)"
   ]
  },
  {
   "cell_type": "code",
   "execution_count": null,
   "metadata": {},
   "outputs": [],
   "source": [
    "df['Product'].value_counts()"
   ]
  },
  {
   "cell_type": "code",
   "execution_count": null,
   "metadata": {},
   "outputs": [],
   "source": [
    "valid_set = ['CR', 'DC', 'MO', 'CC', 'BS', 'SL']\n",
    "df = df[df['Abbrev'].isin(valid_set)].dropna(subset=['cleaned_text'])\n",
    "df = df[df['cleaned_text'].str.len() >= 10]"
   ]
  },
  {
   "cell_type": "code",
   "execution_count": null,
   "metadata": {},
   "outputs": [],
   "source": [
    "model_df = df[['Product','Issue', 'Complaint ID', 'cleaned_text', 'Abbrev']]"
   ]
  },
  {
   "cell_type": "code",
   "execution_count": null,
   "metadata": {},
   "outputs": [],
   "source": [
    "from sklearn.feature_extraction.text import TfidfVectorizer\n",
    "from sklearn.linear_model import LogisticRegression\n",
    "from sklearn.model_selection import train_test_split\n",
    "\n",
    "from sklearn.metrics import classification_report\n",
    "from sklearn.metrics import confusion_matrix"
   ]
  },
  {
   "cell_type": "code",
   "execution_count": null,
   "metadata": {},
   "outputs": [],
   "source": [
    "train_df, test_df = train_test_split(model_df, test_size=0.2, random_state=42)\n",
    "train_df, val_df = train_test_split(train_df, test_size=0.2, random_state=42)"
   ]
  },
  {
   "cell_type": "code",
   "execution_count": null,
   "metadata": {},
   "outputs": [],
   "source": [
    "X_train, X_val = train_df['cleaned_text'].values, val_df['cleaned_text'].values\n",
    "y_train, y_val = train_df['Abbrev'].values, val_df['Abbrev'].values"
   ]
  },
  {
   "cell_type": "code",
   "execution_count": null,
   "metadata": {},
   "outputs": [],
   "source": [
    "tfidf_vect = TfidfVectorizer(analyzer='word', max_features=1000, ngram_range=(1, 1))\n",
    "tfidf_vect.fit(X_train)"
   ]
  },
  {
   "cell_type": "code",
   "execution_count": null,
   "metadata": {},
   "outputs": [],
   "source": [
    "X_train_tfidf = tfidf_vect.transform(X_train)\n",
    "X_val_tfidf = tfidf_vect.transform(X_val)"
   ]
  },
  {
   "cell_type": "markdown",
   "metadata": {},
   "source": [
    "### Logistic regression"
   ]
  },
  {
   "cell_type": "code",
   "execution_count": null,
   "metadata": {},
   "outputs": [],
   "source": [
    "lr = LogisticRegression(C=1.0, max_iter=500, class_weight='balanced', multi_class='auto', solver='lbfgs', n_jobs=3)\n",
    "lr.fit(X_train_tfidf, y_train)"
   ]
  },
  {
   "cell_type": "markdown",
   "metadata": {},
   "source": [
    "### Random Forest classifier - Needs hyperparameter tuning"
   ]
  },
  {
   "cell_type": "code",
   "execution_count": null,
   "metadata": {},
   "outputs": [],
   "source": [
    "from sklearn.ensemble import RandomForestClassifier"
   ]
  },
  {
   "cell_type": "code",
   "execution_count": null,
   "metadata": {},
   "outputs": [],
   "source": [
    "rf = RandomForestClassifier(n_estimators=10, n_jobs=3, max_depth=10, max_features=10)\n",
    "rf.fit(X_train_tfidf, y_train)"
   ]
  },
  {
   "cell_type": "code",
   "execution_count": null,
   "metadata": {},
   "outputs": [],
   "source": [
    "model = lr\n",
    "targets = sorted(val_df['Abbrev'].unique())"
   ]
  },
  {
   "cell_type": "markdown",
   "metadata": {},
   "source": [
    "### Results on the validation data"
   ]
  },
  {
   "cell_type": "code",
   "execution_count": null,
   "metadata": {},
   "outputs": [],
   "source": [
    "pred = model.predict(X_val_tfidf)\n",
    "\n",
    "val_df['pred'] = pred\n",
    "pred_proba = model.predict_proba(X_val_tfidf)\n",
    "proba_df = pd.DataFrame(pred_proba, columns=['pred_'+t for t in targets])\n",
    "proba_df['max_prob'] = proba_df.max(axis=1)\n",
    "proba_df['Complaint ID'] = val_df['Complaint ID'].values\n",
    "\n",
    "merged = pd.merge(val_df, proba_df, on='Complaint ID')\n",
    "threshold = merged[merged['max_prob']> 0]"
   ]
  },
  {
   "cell_type": "markdown",
   "metadata": {},
   "source": [
    "### Generate Test output"
   ]
  },
  {
   "cell_type": "code",
   "execution_count": null,
   "metadata": {},
   "outputs": [],
   "source": [
    "X_test_tfidf = tfidf_vect.transform(test_df['cleaned_text'].values)\n",
    "test_pred = model.predict(X_test_tfidf)\n",
    "test_df['pred'] = test_pred\n",
    "pred_proba = model.predict_proba(X_test_tfidf)\n",
    "proba_df = pd.DataFrame(pred_proba, columns=['pred_'+t for t in targets])\n",
    "proba_df['max_prob'] = proba_df.max(axis=1)\n",
    "proba_df['Complaint ID'] = test_df['Complaint ID'].values\n",
    "merged = pd.merge(test_df, proba_df, on='Complaint ID')\n",
    "\n",
    "threshold = merged[merged['max_prob']> 0].drop(columns=['cleaned_text'])\n",
    "threshold.to_csv('../output/predictions.csv', index=False)"
   ]
  },
  {
   "cell_type": "code",
   "execution_count": null,
   "metadata": {},
   "outputs": [],
   "source": [
    "print(classification_report(test_df['Abbrev'], test_pred))"
   ]
  },
  {
   "cell_type": "markdown",
   "metadata": {},
   "source": [
    "### Look at some wrong predictions"
   ]
  },
  {
   "cell_type": "code",
   "execution_count": null,
   "metadata": {},
   "outputs": [],
   "source": [
    "wrong_pl = threshold[(threshold['Abbrev']=='CC') & (threshold['pred'] != 'CC')]"
   ]
  },
  {
   "cell_type": "code",
   "execution_count": null,
   "metadata": {},
   "outputs": [],
   "source": [
    "wrong_pl['pred'].hist()"
   ]
  },
  {
   "cell_type": "code",
   "execution_count": null,
   "metadata": {},
   "outputs": [],
   "source": [
    "threshold_big = pd.merge(threshold, df, on=['Complaint ID'])\n",
    "for row in threshold_big[(threshold_big['Abbrev_x']=='CC') & (threshold_big['pred'] == 'BS')].iterrows():\n",
    "    print(row[0])\n",
    "    print()\n",
    "    print('Cleaned text: ', row[1]['Consumer complaint narrative'])\n",
    "    print()\n",
    "    print('Issue: ', row[1]['Issue_x'])\n",
    "    print('Actual type: {}, Predicted type: {}'.format(row[1]['Abbrev_x'], row[1]['pred']))\n",
    "    print()\n",
    "    print()"
   ]
  }
 ],
 "metadata": {
  "kernelspec": {
   "display_name": "Python 3",
   "language": "python",
   "name": "python3"
  },
  "language_info": {
   "codemirror_mode": {
    "name": "ipython",
    "version": 3
   },
   "file_extension": ".py",
   "mimetype": "text/x-python",
   "name": "python",
   "nbconvert_exporter": "python",
   "pygments_lexer": "ipython3",
   "version": "3.7.3"
  }
 },
 "nbformat": 4,
 "nbformat_minor": 2
}
