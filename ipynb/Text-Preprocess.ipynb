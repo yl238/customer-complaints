{
 "cells": [
  {
   "cell_type": "code",
   "execution_count": 1,
   "metadata": {},
   "outputs": [],
   "source": [
    "%matplotlib inline\n",
    "%load_ext autoreload\n",
    "%autoreload 2"
   ]
  },
  {
   "cell_type": "code",
   "execution_count": 3,
   "metadata": {},
   "outputs": [],
   "source": [
    "import pandas as pd\n",
    "import spacy\n",
    "nlp = spacy.load(\"en_core_web_sm\")"
   ]
  },
  {
   "cell_type": "code",
   "execution_count": 4,
   "metadata": {},
   "outputs": [],
   "source": [
    "import os\n",
    "import sys\n",
    "module_path = os.path.abspath(os.path.join('..'))\n",
    "if module_path not in sys.path:\n",
    "    sys.path.append(module_path)"
   ]
  },
  {
   "cell_type": "code",
   "execution_count": 5,
   "metadata": {},
   "outputs": [],
   "source": [
    "file = '../data/product_merged.csv'\n",
    "df = pd.read_csv(file, low_memory=False)"
   ]
  },
  {
   "cell_type": "code",
   "execution_count": 19,
   "metadata": {},
   "outputs": [],
   "source": [
    "import re\n",
    "special = re.compile(r'http\\S+|www\\S+|[^a-zA-Z ]+|xx+')\n",
    "docs = [' '.join(special.sub('', doc.lower()).split()) for doc in df['Consumer complaint narrative'].values]"
   ]
  },
  {
   "cell_type": "code",
   "execution_count": 21,
   "metadata": {},
   "outputs": [],
   "source": [
    "df['cleaned_text'] = docs"
   ]
  },
  {
   "cell_type": "code",
   "execution_count": 24,
   "metadata": {},
   "outputs": [],
   "source": [
    "nlp.vocab['$'].is_punct = True"
   ]
  },
  {
   "cell_type": "code",
   "execution_count": 25,
   "metadata": {},
   "outputs": [],
   "source": [
    "tokenized = []\n",
    "for doc in nlp.pipe(docs, disable=['tagger', 'parser', 'ner']):\n",
    "    tokenized.append(\" \".join(token.lemma_.lower() for token in doc if not token.is_stop and not token.is_space \\\n",
    "            and not token.is_punct and not token.like_num))"
   ]
  },
  {
   "cell_type": "code",
   "execution_count": 26,
   "metadata": {},
   "outputs": [],
   "source": [
    "df['tokenized_text'] = tokenized"
   ]
  },
  {
   "cell_type": "code",
   "execution_count": 27,
   "metadata": {},
   "outputs": [],
   "source": [
    "df.to_csv('../data/with_tokenized.csv', index=False)"
   ]
  },
  {
   "cell_type": "code",
   "execution_count": 7,
   "metadata": {},
   "outputs": [
    {
     "data": {
      "text/plain": [
       "I do not know                            18505\n",
       "Other debt                               16102\n",
       "Other (i.e. phone, health club, etc.)    12389\n",
       "Credit card debt                         12224\n",
       "Medical debt                              9556\n",
       "Credit card                               7520\n",
       "Medical                                   6990\n",
       "Payday loan debt                          2151\n",
       "Payday loan                               2064\n",
       "Auto debt                                 1981\n",
       "Mortgage debt                             1341\n",
       "Auto                                      1064\n",
       "Federal student loan debt                  966\n",
       "Private student loan debt                  961\n",
       "Mortgage                                   907\n",
       "Non-federal student loan                   684\n",
       "Federal student loan                       549\n",
       "Name: Sub-product, dtype: int64"
      ]
     },
     "execution_count": 7,
     "metadata": {},
     "output_type": "execute_result"
    }
   ],
   "source": [
    "df[df['Product'] == 'Debt collection']['Sub-product'].value_counts()"
   ]
  },
  {
   "cell_type": "code",
   "execution_count": 8,
   "metadata": {},
   "outputs": [],
   "source": [
    "dont_knows = df[(df['Product'] == 'Debt collection') & (df['Sub-product'] == 'I do not know')]"
   ]
  },
  {
   "cell_type": "code",
   "execution_count": 14,
   "metadata": {},
   "outputs": [
    {
     "data": {
      "text/plain": [
       "'I called the phone number back that has been calling me daily for weeks now ( XXXX ) only to hear a prerecorded message stating that it is Sequium Asset Solutions attempting to collect a debt. There are no outstanding debts for either myself or my husband, with the exceptions of our home, cars, student loans, and credits cards, all of which are up-to-date on their payments. I believe these phone calls to be an attempt to extort information from me due to my having good to outstanding credit.'"
      ]
     },
     "execution_count": 14,
     "metadata": {},
     "output_type": "execute_result"
    }
   ],
   "source": [
    "dont_knows.iloc[4]['Consumer complaint narrative']"
   ]
  },
  {
   "cell_type": "code",
   "execution_count": null,
   "metadata": {},
   "outputs": [],
   "source": []
  }
 ],
 "metadata": {
  "kernelspec": {
   "display_name": "Python 3",
   "language": "python",
   "name": "python3"
  },
  "language_info": {
   "codemirror_mode": {
    "name": "ipython",
    "version": 3
   },
   "file_extension": ".py",
   "mimetype": "text/x-python",
   "name": "python",
   "nbconvert_exporter": "python",
   "pygments_lexer": "ipython3",
   "version": "3.7.3"
  }
 },
 "nbformat": 4,
 "nbformat_minor": 2
}
