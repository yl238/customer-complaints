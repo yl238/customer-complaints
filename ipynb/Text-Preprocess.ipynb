{
 "cells": [
  {
   "cell_type": "code",
   "execution_count": 1,
   "metadata": {},
   "outputs": [],
   "source": [
    "%matplotlib inline\n",
    "%load_ext autoreload\n",
    "%autoreload 2"
   ]
  },
  {
   "cell_type": "code",
   "execution_count": 2,
   "metadata": {},
   "outputs": [],
   "source": [
    "import pandas as pd\n",
    "import spacy\n",
    "nlp = spacy.load(\"en_core_web_sm\")"
   ]
  },
  {
   "cell_type": "code",
   "execution_count": 3,
   "metadata": {},
   "outputs": [],
   "source": [
    "def text_preprocess(text):\n",
    "    \"\"\"Use spaCy to remove stopwords and lemmatize\n",
    "    \"\"\"\n",
    "    return \" \".join(token.lemma_ for token in nlp(text)\n",
    "                    if not token.is_stop)        "
   ]
  },
  {
   "cell_type": "code",
   "execution_count": 23,
   "metadata": {},
   "outputs": [],
   "source": [
    "file = '../data/Consumer_Complaints.csv'"
   ]
  },
  {
   "cell_type": "code",
   "execution_count": 24,
   "metadata": {},
   "outputs": [
    {
     "name": "stderr",
     "output_type": "stream",
     "text": [
      "/Users/sueliu/Mudano/customer-complaints/venv/lib/python3.7/site-packages/IPython/core/interactiveshell.py:3058: DtypeWarning: Columns (5,6,11,16) have mixed types. Specify dtype option on import or set low_memory=False.\n",
      "  interactivity=interactivity, compiler=compiler, result=result)\n"
     ]
    }
   ],
   "source": [
    "df = pd.read_csv(file)"
   ]
  },
  {
   "cell_type": "code",
   "execution_count": 25,
   "metadata": {},
   "outputs": [],
   "source": [
    "reporting = df[df.Product == 'Credit reporting, credit repair services, or other personal consumer reports']"
   ]
  },
  {
   "cell_type": "code",
   "execution_count": 27,
   "metadata": {},
   "outputs": [
    {
     "data": {
      "text/plain": [
       "Index(['Date received', 'Product', 'Sub-product', 'Issue', 'Sub-issue',\n",
       "       'Consumer complaint narrative', 'Company public response', 'Company',\n",
       "       'State', 'ZIP code', 'Tags', 'Consumer consent provided?',\n",
       "       'Submitted via', 'Date sent to company', 'Company response to consumer',\n",
       "       'Timely response?', 'Consumer disputed?', 'Complaint ID'],\n",
       "      dtype='object')"
      ]
     },
     "execution_count": 27,
     "metadata": {},
     "output_type": "execute_result"
    }
   ],
   "source": [
    "df.columns"
   ]
  },
  {
   "cell_type": "code",
   "execution_count": null,
   "metadata": {},
   "outputs": [],
   "source": []
  },
  {
   "cell_type": "code",
   "execution_count": 26,
   "metadata": {},
   "outputs": [
    {
     "data": {
      "text/plain": [
       "Mortgage                                                                        285377\n",
       "Credit reporting, credit repair services, or other personal consumer reports    271497\n",
       "Debt collection                                                                 259996\n",
       "Credit reporting                                                                140432\n",
       "Credit card                                                                      89190\n",
       "Bank account or service                                                          86206\n",
       "Credit card or prepaid card                                                      55887\n",
       "Student loan                                                                     53749\n",
       "Checking or savings account                                                      47887\n",
       "Consumer Loan                                                                    31604\n",
       "Vehicle loan or lease                                                            13159\n",
       "Money transfer, virtual currency, or money service                               11889\n",
       "Payday loan, title loan, or personal loan                                        10019\n",
       "Payday loan                                                                       5544\n",
       "Money transfers                                                                   5354\n",
       "Prepaid card                                                                      3819\n",
       "Other financial service                                                           1059\n",
       "Virtual currency                                                                    18\n",
       "Name: Product, dtype: int64"
      ]
     },
     "execution_count": 26,
     "metadata": {},
     "output_type": "execute_result"
    }
   ],
   "source": [
    "df.Product.value_counts()"
   ]
  },
  {
   "cell_type": "code",
   "execution_count": 49,
   "metadata": {},
   "outputs": [
    {
     "data": {
      "text/plain": [
       "General purpose card                      1752\n",
       "Mobile wallet                              418\n",
       "Payroll card                               411\n",
       "Gift or merchant card                      402\n",
       "Government benefit payment card            389\n",
       "ID prepaid card                            207\n",
       "Other special purpose card                 191\n",
       "Transit card                                37\n",
       "Electronic Benefit Transfer / EBT card      12\n",
       "Name: Sub-product, dtype: int64"
      ]
     },
     "execution_count": 49,
     "metadata": {},
     "output_type": "execute_result"
    }
   ],
   "source": [
    "df[df.Product == 'Prepaid card']['Sub-product'].value_counts()"
   ]
  },
  {
   "cell_type": "code",
   "execution_count": 48,
   "metadata": {},
   "outputs": [
    {
     "data": {
      "text/plain": [
       "Checking account                    35904\n",
       "Other banking product or service     7391\n",
       "Savings account                      3137\n",
       "CD (Certificate of Deposit)          1423\n",
       "Personal line of credit                32\n",
       "Name: Sub-product, dtype: int64"
      ]
     },
     "execution_count": 48,
     "metadata": {},
     "output_type": "execute_result"
    }
   ],
   "source": [
    "df[df.Product == 'Checking or savings account']['Sub-product'].value_counts()"
   ]
  },
  {
   "cell_type": "code",
   "execution_count": 44,
   "metadata": {},
   "outputs": [
    {
     "data": {
      "text/plain": [
       "Domestic (US) money transfer    17\n",
       "International money transfer     1\n",
       "Name: Sub-product, dtype: int64"
      ]
     },
     "execution_count": 44,
     "metadata": {},
     "output_type": "execute_result"
    }
   ],
   "source": [
    "df[df.Product =='Virtual currency']['Sub-product'].value_counts()"
   ]
  },
  {
   "cell_type": "code",
   "execution_count": 37,
   "metadata": {},
   "outputs": [
    {
     "data": {
      "text/plain": [
       "Loan          10943\n",
       "Lease          2206\n",
       "Title loan       10\n",
       "Name: Sub-product, dtype: int64"
      ]
     },
     "execution_count": 37,
     "metadata": {},
     "output_type": "execute_result"
    }
   ],
   "source": [
    "df[df.Product == 'Vehicle loan or lease']['Sub-product'].value_counts()"
   ]
  },
  {
   "cell_type": "code",
   "execution_count": 43,
   "metadata": {},
   "outputs": [
    {
     "data": {
      "text/plain": [
       "Vehicle loan               17782\n",
       "Installment loan            8699\n",
       "Vehicle lease               2658\n",
       "Personal line of credit     1824\n",
       "Title loan                   547\n",
       "Pawn loan                     94\n",
       "Name: Sub-product, dtype: int64"
      ]
     },
     "execution_count": 43,
     "metadata": {},
     "output_type": "execute_result"
    }
   ],
   "source": [
    "df[df.Product == 'Consumer Loan']['Sub-product'].value_counts()"
   ]
  },
  {
   "cell_type": "markdown",
   "metadata": {},
   "source": [
    "#### Should concatenate all the other kind of loans except student loan"
   ]
  },
  {
   "cell_type": "code",
   "execution_count": 31,
   "metadata": {},
   "outputs": [
    {
     "data": {
      "text/plain": [
       "Series([], Name: Sub-product, dtype: int64)"
      ]
     },
     "execution_count": 31,
     "metadata": {},
     "output_type": "execute_result"
    }
   ],
   "source": [
    "df[df.Product == 'Payday loan']['Sub-product'].value_counts()"
   ]
  },
  {
   "cell_type": "code",
   "execution_count": 30,
   "metadata": {},
   "outputs": [
    {
     "data": {
      "text/plain": [
       "Installment loan           4019\n",
       "Payday loan                3117\n",
       "Personal line of credit    1957\n",
       "Title loan                  901\n",
       "Pawn loan                    25\n",
       "Name: Sub-product, dtype: int64"
      ]
     },
     "execution_count": 30,
     "metadata": {},
     "output_type": "execute_result"
    }
   ],
   "source": [
    "df[df.Product == 'Payday loan, title loan, or personal loan']['Sub-product'].value_counts()"
   ]
  },
  {
   "cell_type": "code",
   "execution_count": 41,
   "metadata": {},
   "outputs": [
    {
     "data": {
      "text/plain": [
       "'I \\'m a single father and had need some emergency funds. I had reluctantly entered into a title loan agreement last year for {$2000.00}. \\nOn XX/XX/XXXX I called my lender to find out when my payments would be complete. My \" original \\'\\' end date was supposed to be XX/XX/XXXX and I had come to find out that the contract had been pushed back to XX/XX/XXXX!! How can any company be allowed to extort another {$3000.00} when all my payments had been made? I had been unemployed earlier in the year so there are some payments that have been late - but ALL payments had been made or caught up. No one ever notified me of this contract extension obviously setup to exploit extending this loan or take my vehicle.'"
      ]
     },
     "execution_count": 41,
     "metadata": {},
     "output_type": "execute_result"
    }
   ],
   "source": [
    "df[(df.Product == 'Consumer Loan') & (df['Sub-product'] =='Title loan')].dropna(\n",
    "    subset=['Consumer complaint narrative']).loc[607729, :]['Consumer complaint narrative']"
   ]
  },
  {
   "cell_type": "code",
   "execution_count": 8,
   "metadata": {},
   "outputs": [
    {
     "data": {
      "text/plain": [
       "'I have reached out to the credit bureaus about these debts they have put on my credit file. This has been a long road. When ever  I apply for anything I am never approved because for some reason I believe me and someone has the same social. Its extremely frustrating. I just would like all this inaccurate information removed'"
      ]
     },
     "execution_count": 8,
     "metadata": {},
     "output_type": "execute_result"
    }
   ],
   "source": [
    "df.iloc[1, :]['Consumer complaint narrative']"
   ]
  },
  {
   "cell_type": "code",
   "execution_count": 8,
   "metadata": {},
   "outputs": [],
   "source": [
    "valid_df=df[df['cleaned_text'].apply(lambda x: len(str(x)) < 500)]"
   ]
  },
  {
   "cell_type": "code",
   "execution_count": 9,
   "metadata": {},
   "outputs": [
    {
     "data": {
      "text/plain": [
       "162700"
      ]
     },
     "execution_count": 9,
     "metadata": {},
     "output_type": "execute_result"
    }
   ],
   "source": [
    "len(valid_df)"
   ]
  },
  {
   "cell_type": "code",
   "execution_count": 10,
   "metadata": {},
   "outputs": [
    {
     "name": "stdout",
     "output_type": "stream",
     "text": [
      "889 ms ± 7.68 ms per loop (mean ± std. dev. of 7 runs, 1 loop each)\n"
     ]
    }
   ],
   "source": [
    "%timeit test = valid_df['cleaned_text'][:100].apply(text_preprocess)"
   ]
  },
  {
   "cell_type": "code",
   "execution_count": null,
   "metadata": {},
   "outputs": [],
   "source": []
  }
 ],
 "metadata": {
  "kernelspec": {
   "display_name": "Python 3",
   "language": "python",
   "name": "python3"
  },
  "language_info": {
   "codemirror_mode": {
    "name": "ipython",
    "version": 3
   },
   "file_extension": ".py",
   "mimetype": "text/x-python",
   "name": "python",
   "nbconvert_exporter": "python",
   "pygments_lexer": "ipython3",
   "version": "3.7.3"
  }
 },
 "nbformat": 4,
 "nbformat_minor": 2
}
