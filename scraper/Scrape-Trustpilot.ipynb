{
 "cells": [
  {
   "cell_type": "code",
   "execution_count": 7,
   "metadata": {},
   "outputs": [
    {
     "name": "stdout",
     "output_type": "stream",
     "text": [
      "The autoreload extension is already loaded. To reload it, use:\n",
      "  %reload_ext autoreload\n"
     ]
    }
   ],
   "source": [
    "%load_ext autoreload\n",
    "%autoreload 2"
   ]
  },
  {
   "cell_type": "code",
   "execution_count": 21,
   "metadata": {},
   "outputs": [
    {
     "name": "stderr",
     "output_type": "stream",
     "text": [
      "[nltk_data] Downloading package punkt to /Users/sueliu/nltk_data...\n",
      "[nltk_data]   Package punkt is already up-to-date!\n"
     ]
    }
   ],
   "source": [
    "import re\n",
    "import pickle\n",
    "import os, sys\n",
    "\n",
    "module_path = os.path.abspath(os.path.join('..'))\n",
    "if module_path not in sys.path:\n",
    "    sys.path.append(module_path)\n",
    "    \n",
    "from preprocess.clean_and_tokenize import clean_and_tokenize_one\n",
    "from scripts.predict_topics import gen_topic_map, predict_complaint_topics"
   ]
  },
  {
   "cell_type": "code",
   "execution_count": 200,
   "metadata": {},
   "outputs": [],
   "source": [
    "df = pd.read_csv('complaints_full.csv')"
   ]
  },
  {
   "cell_type": "code",
   "execution_count": 201,
   "metadata": {},
   "outputs": [],
   "source": [
    "df['date'] = pd.to_datetime(df['date_time'])"
   ]
  },
  {
   "cell_type": "code",
   "execution_count": 25,
   "metadata": {},
   "outputs": [],
   "source": [
    "with open('../nationwide/input/lda_45_topics.pkl', 'rb') as f:\n",
    "    data = pickle.load(f)\n",
    "lda_model = data['model']\n",
    "vectorizer = data['vectorizer']\n",
    "\n",
    "topic_map = gen_topic_map('../nationwide/input/topics_matching.xlsx')"
   ]
  },
  {
   "cell_type": "code",
   "execution_count": 228,
   "metadata": {},
   "outputs": [],
   "source": [
    "topic_map_df = pd.DataFrame(topic_map, index=[0]).T.reset_index()\n",
    "topic_map_df.columns=['topic_id', 'topic_name']"
   ]
  },
  {
   "cell_type": "code",
   "execution_count": 229,
   "metadata": {},
   "outputs": [
    {
     "name": "stdout",
     "output_type": "stream",
     "text": [
      "prototyping.complaints_topic_names doesn't exist - CREATING\n"
     ]
    }
   ],
   "source": [
    "to_postgres(topic_map_df,'prototyping.complaints_topic_names', create_engine(con_str))"
   ]
  },
  {
   "cell_type": "code",
   "execution_count": 28,
   "metadata": {},
   "outputs": [
    {
     "data": {
      "text/plain": [
       "\"I wouldn't recommend opening a Help to Buy ISA here. My partner was with Halifax and got an instant transfer of funds when closing the account including the final statement on the spot... Went to close at Nationwide, and we have to wait 5-7 days for the closing statement and either receive the money via cheque of pay £20 to transfer it electronically. Not sure what other banks are like but the Halifax experience was much better.\""
      ]
     },
     "execution_count": 28,
     "metadata": {},
     "output_type": "execute_result"
    }
   ],
   "source": [
    "text_field = 'compliant_text_cleaned'\n",
    "df[text_field]"
   ]
  },
  {
   "cell_type": "code",
   "execution_count": 202,
   "metadata": {},
   "outputs": [],
   "source": [
    " # Clean complaints text prior to prediction\n",
    "df['cleaned'] = df[text_field].astype(str).apply(clean_and_tokenize_one)\n",
    "\n",
    "    # Apply Countvectorizer transform and then LDA predict\n",
    "vectorized = vectorizer.transform(df['cleaned'])\n",
    "topics = lda_model.transform(vectorized)"
   ]
  },
  {
   "cell_type": "code",
   "execution_count": 203,
   "metadata": {},
   "outputs": [
    {
     "data": {
      "text/plain": [
       "(8796, 45)"
      ]
     },
     "execution_count": 203,
     "metadata": {},
     "output_type": "execute_result"
    }
   ],
   "source": [
    "topics.shape"
   ]
  },
  {
   "cell_type": "code",
   "execution_count": 204,
   "metadata": {},
   "outputs": [],
   "source": [
    "import numpy as np\n",
    "top_n = 5"
   ]
  },
  {
   "cell_type": "code",
   "execution_count": 286,
   "metadata": {},
   "outputs": [],
   "source": [
    "all_output = []\n",
    "for c in range(topics.shape[0]):\n",
    "    output = dict()\n",
    "    # We need to output the original narrative for comparison\n",
    "    output['idx'] = df['Unnamed: 0'].values[c]\n",
    "    output['company'] = df['company'].values[c]\n",
    "    output['review_title'] = df['review_title'].values[c]\n",
    "    output['date'] = df['date'].values[c]\n",
    "    output['review_narrative'] = df[text_field].values[c]\n",
    "    topic_indices = np.argsort(topics[c, :])[::-1]\n",
    "    topic_prob = np.sort(topics[c, :])[::-1]\n",
    "    \n",
    "    topics_data = {}\n",
    "    for importance_count, [idx, prob] in enumerate(list(zip(topic_indices, topic_prob))[:top_n]):\n",
    "        topics_data[topic_map[int(idx)]] = prob\n",
    "    output['topics'] = topics_data\n",
    "    all_output.append(output)    "
   ]
  },
  {
   "cell_type": "code",
   "execution_count": 276,
   "metadata": {},
   "outputs": [],
   "source": [
    "all_output = []\n",
    "for c in range(topics.shape[0]):\n",
    "    output = dict()\n",
    "    # We need to output the original narrative for comparison\n",
    "    output['idx'] = df['Unnamed: 0'].values[c]\n",
    "    output['company'] = df['company'].values[c]\n",
    "    output['review_title'] = df['review_title'].values[c]\n",
    "    output['date'] = df['date'].values[c]\n",
    "    output['review_narrative'] = df[text_field].values[c]\n",
    "    \n",
    "    for i in range(topics.shape[1]):\n",
    "        output['topic_{}'.format(i)] = topics[c, i]\n",
    "    all_output.append(output)"
   ]
  },
  {
   "cell_type": "code",
   "execution_count": 287,
   "metadata": {},
   "outputs": [],
   "source": [
    "output_df = pd.DataFrame.from_records(all_output)"
   ]
  },
  {
   "cell_type": "code",
   "execution_count": 295,
   "metadata": {},
   "outputs": [
    {
     "name": "stdout",
     "output_type": "stream",
     "text": [
      "I went for a new 5-year mortgage and was \"guaranteed\" that I could get an additional mortgage.  You can't...  They ask for riddiculous things such sending statements from 2010!.  Now in the process of moving to another mortgage lender and will be moving ISA, Credit Cards and Current account from this sorry non-caring company.Nationwide seem very keen on marketing their products but when it comes to it they don't want actually want your business.\n",
      "{'Taking out or refinancing mortgage': 0.35427235747478814, 'Customer support': 0.14466843102230484, 'Communications with company': 0.11173885232929624, 'Credit card account': 0.11137803774883945, 'Signing contracts': 0.10084570467774094}\n"
     ]
    }
   ],
   "source": [
    "print(output_df.iloc[4]['review_narrative'])\n",
    "print(output_df.iloc[4]['topics'])"
   ]
  },
  {
   "cell_type": "code",
   "execution_count": 92,
   "metadata": {},
   "outputs": [
    {
     "data": {
      "text/plain": [
       "array(['www.nationwide.co.uk', 'www.hsbc.co.uk', 'lloydsbank.com',\n",
       "       'www.natwest.com', 'www.barclays.co.uk', 'tsb.co.uk',\n",
       "       'www.halifax.co.uk', 'www.rbs.co.uk'], dtype=object)"
      ]
     },
     "execution_count": 92,
     "metadata": {},
     "output_type": "execute_result"
    }
   ],
   "source": [
    "output_df.company.unique()"
   ]
  },
  {
   "cell_type": "code",
   "execution_count": 148,
   "metadata": {},
   "outputs": [],
   "source": [
    "with open(\"/Users/sueliu/cred.secret\", 'r') as f:\n",
    "    con_str = f.read().strip()"
   ]
  },
  {
   "cell_type": "code",
   "execution_count": 297,
   "metadata": {},
   "outputs": [],
   "source": [
    "to_postgres(output_df, 'prototyping.complaints_trustpilot', get_engine(con_str), text_cols=['review_title', 'review_narrative'])"
   ]
  },
  {
   "cell_type": "code",
   "execution_count": 186,
   "metadata": {},
   "outputs": [],
   "source": [
    "from pandas.api.types import is_string_dtype"
   ]
  },
  {
   "cell_type": "code",
   "execution_count": 274,
   "metadata": {},
   "outputs": [],
   "source": [
    "def clean_rows(df, text_cols):\n",
    "    for col in text_cols:\n",
    "        if is_string_dtype(df[col]):\n",
    "            df[col] = df[col].str.replace('|', '')\n",
    "    return df"
   ]
  },
  {
   "cell_type": "code",
   "execution_count": 176,
   "metadata": {},
   "outputs": [
    {
     "data": {
      "text/plain": [
       "\"I am a HSBC Customer for over 20 years and have to say they seem to be going from best Bank to worst in those 20 years they have  Closed my Local Branch down ( which was open for over 50 years) |I am a Advance banking Customer  that means u pay extra for what it used to be for UK call centres now mainly have Calls answered from Countries other then UK , who  i don't understand when they SpeakI have had tried to Explain my View to the Bank but its on Deaf Ears\""
      ]
     },
     "execution_count": 176,
     "metadata": {},
     "output_type": "execute_result"
    }
   ],
   "source": [
    "output_df.iloc[2947, :]['review_narrative']"
   ]
  },
  {
   "cell_type": "code",
   "execution_count": 104,
   "metadata": {},
   "outputs": [],
   "source": [
    "complaint_counts = []\n",
    "for company, data in output_df.groupby('company'):\n",
    "    complaint_counts.append(data.set_index('date').resample('M').count()['idx'])"
   ]
  },
  {
   "cell_type": "code",
   "execution_count": 108,
   "metadata": {},
   "outputs": [],
   "source": [
    "all_counts = pd.concat(complaint_counts, axis=1)\n",
    "all_counts.columns = ['www.nationwide.co.uk', 'www.hsbc.co.uk', 'lloydsbank.com',\n",
    "       'www.natwest.com', 'www.barclays.co.uk', 'tsb.co.uk',\n",
    "       'www.halifax.co.uk', 'www.rbs.co.uk']"
   ]
  },
  {
   "cell_type": "code",
   "execution_count": 140,
   "metadata": {},
   "outputs": [],
   "source": [
    "from sqlalchemy import event, create_engine"
   ]
  },
  {
   "cell_type": "code",
   "execution_count": 142,
   "metadata": {},
   "outputs": [],
   "source": [
    "from io import StringIO"
   ]
  },
  {
   "cell_type": "code",
   "execution_count": 225,
   "metadata": {},
   "outputs": [],
   "source": [
    "def get_engine(con_string):\n",
    "    engine = create_engine(con_string)\n",
    "    return engine"
   ]
  },
  {
   "cell_type": "code",
   "execution_count": 296,
   "metadata": {},
   "outputs": [],
   "source": [
    "def to_postgres(df, table_name, con, text_cols=None):\n",
    "    data = StringIO()\n",
    "    if text_cols is not None:\n",
    "        df = clean_rows(df, text_cols)\n",
    "    df.to_csv(data, header=False, index=False, sep='|')\n",
    "    data.seek(0)\n",
    "    raw = con.raw_connection()\n",
    "    curs = raw.cursor()\n",
    "    try:\n",
    "        curs.execute('DROP TABLE ' + table_name)\n",
    "    except:\n",
    "        raw = con.raw_connection()\n",
    "        curs = raw.cursor()\n",
    "        print(\"{} doesn't exist - CREATING\".format(table_name))\n",
    "    #empty_table = 'CREATE TABLE ' + table_name + ' (\\n\"idx\" TEXT,\\n  \"company\" TEXT,\\n  \"review_title\" TEXT,\\n  \"date\" TIMESTAMP,\\n  \"review_narrative\" TEXT,\\n  \"topics\" JSON\\n)'\n",
    "    empty_table = pd.io.sql.get_schema(df, table_name, con=con)\n",
    "    empty_table = empty_table.replace('\"', '')\n",
    "    curs.execute(empty_table)\n",
    "    curs.copy_from(data, table_name, sep='|')\n",
    "    curs.execute(\"grant select on {} to grp_dev\".format(table_name))\n",
    "    curs.connection.commit()"
   ]
  },
  {
   "cell_type": "code",
   "execution_count": 232,
   "metadata": {},
   "outputs": [],
   "source": [
    "from sqlalchemy.types import TEXT, JSON, TIMESTAMP"
   ]
  },
  {
   "cell_type": "code",
   "execution_count": 235,
   "metadata": {},
   "outputs": [
    {
     "data": {
      "text/plain": [
       "'CREATE TABLE \"prototyping.complaints_trustpilot\" (\\n\"idx\" TEXT,\\n  \"company\" TEXT,\\n  \"review_title\" TEXT,\\n  \"date\" TIMESTAMP,\\n  \"review_narrative\" TEXT,\\n  \"topics\" TEXT\\n)'"
      ]
     },
     "execution_count": 235,
     "metadata": {},
     "output_type": "execute_result"
    }
   ],
   "source": [
    "pd.io.sql.get_schema(output_df, 'prototyping.complaints_trustpilot')"
   ]
  },
  {
   "cell_type": "code",
   "execution_count": 114,
   "metadata": {},
   "outputs": [],
   "source": [
    "import matplotlib.pyplot as plt\n",
    "import seaborn as sns\n"
   ]
  },
  {
   "cell_type": "code",
   "execution_count": 126,
   "metadata": {},
   "outputs": [
    {
     "data": {
      "text/html": [
       "        <script type=\"text/javascript\">\n",
       "        window.PlotlyConfig = {MathJaxConfig: 'local'};\n",
       "        if (window.MathJax) {MathJax.Hub.Config({SVG: {font: \"STIX-Web\"}});}\n",
       "        if (typeof require !== 'undefined') {\n",
       "        require.undef(\"plotly\");\n",
       "        requirejs.config({\n",
       "            paths: {\n",
       "                'plotly': ['https://cdn.plot.ly/plotly-latest.min']\n",
       "            }\n",
       "        });\n",
       "        require(['plotly'], function(Plotly) {\n",
       "            window._Plotly = Plotly;\n",
       "        });\n",
       "        }\n",
       "        </script>\n",
       "        "
      ]
     },
     "metadata": {},
     "output_type": "display_data"
    },
    {
     "data": {
      "text/html": [
       "        <script type=\"text/javascript\">\n",
       "        window.PlotlyConfig = {MathJaxConfig: 'local'};\n",
       "        if (window.MathJax) {MathJax.Hub.Config({SVG: {font: \"STIX-Web\"}});}\n",
       "        if (typeof require !== 'undefined') {\n",
       "        require.undef(\"plotly\");\n",
       "        requirejs.config({\n",
       "            paths: {\n",
       "                'plotly': ['https://cdn.plot.ly/plotly-latest.min']\n",
       "            }\n",
       "        });\n",
       "        require(['plotly'], function(Plotly) {\n",
       "            window._Plotly = Plotly;\n",
       "        });\n",
       "        }\n",
       "        </script>\n",
       "        "
      ]
     },
     "metadata": {},
     "output_type": "display_data"
    }
   ],
   "source": [
    "import plotly.plotly as py\n",
    "import plotly\n",
    "import cufflinks as cf\n",
    "import pandas as pd\n",
    "import numpy as np\n",
    "from plotly.offline import download_plotlyjs, init_notebook_mode, plot, iplot\n",
    "init_notebook_mode(connected=True)\n",
    "cf.go_offline()"
   ]
  },
  {
   "cell_type": "code",
   "execution_count": 165,
   "metadata": {},
   "outputs": [],
   "source": [
    "df.to_csv?"
   ]
  },
  {
   "cell_type": "code",
   "execution_count": 123,
   "metadata": {},
   "outputs": [
    {
     "data": {
      "text/html": [
       "        <script type=\"text/javascript\">\n",
       "        window.PlotlyConfig = {MathJaxConfig: 'local'};\n",
       "        if (window.MathJax) {MathJax.Hub.Config({SVG: {font: \"STIX-Web\"}});}\n",
       "        if (typeof require !== 'undefined') {\n",
       "        require.undef(\"plotly\");\n",
       "        requirejs.config({\n",
       "            paths: {\n",
       "                'plotly': ['https://cdn.plot.ly/plotly-latest.min']\n",
       "            }\n",
       "        });\n",
       "        require(['plotly'], function(Plotly) {\n",
       "            window._Plotly = Plotly;\n",
       "        });\n",
       "        }\n",
       "        </script>\n",
       "        "
      ]
     },
     "metadata": {},
     "output_type": "display_data"
    }
   ],
   "source": [
    "import cufflinks as cf"
   ]
  },
  {
   "cell_type": "code",
   "execution_count": 130,
   "metadata": {},
   "outputs": [],
   "source": [
    "plotly.offline.plot?"
   ]
  },
  {
   "cell_type": "code",
   "execution_count": 131,
   "metadata": {},
   "outputs": [
    {
     "data": {
      "text/plain": [
       "'example.html'"
      ]
     },
     "execution_count": 131,
     "metadata": {},
     "output_type": "execute_result"
    }
   ],
   "source": [
    "fig = all_counts.iplot(kind='scatter', asFigure=True)\n",
    "plotly.offline.plot(fig,filename=\"example.html\")"
   ]
  },
  {
   "cell_type": "code",
   "execution_count": 101,
   "metadata": {},
   "outputs": [],
   "source": [
    "nationwide = output_df[output_df.company == 'www.natwest.com']"
   ]
  },
  {
   "cell_type": "code",
   "execution_count": 85,
   "metadata": {},
   "outputs": [],
   "source": [
    "%matplotlib inline"
   ]
  },
  {
   "cell_type": "code",
   "execution_count": 103,
   "metadata": {},
   "outputs": [
    {
     "data": {
      "text/plain": [
       "<matplotlib.axes._subplots.AxesSubplot at 0x136745780>"
      ]
     },
     "execution_count": 103,
     "metadata": {},
     "output_type": "execute_result"
    },
    {
     "data": {
      "image/png": "[encoded data removed]",
      "text/plain": [
       "<Figure size 432x288 with 1 Axes>"
      ]
     },
     "metadata": {
      "needs_background": "light"
     },
     "output_type": "display_data"
    }
   ],
   "source": [
    "nationwide.set_index('date').resample('M').count()['idx'].plot()"
   ]
  },
  {
   "cell_type": "code",
   "execution_count": null,
   "metadata": {},
   "outputs": [],
   "source": []
  }
 ],
 "metadata": {
  "kernelspec": {
   "display_name": "Python 3",
   "language": "python",
   "name": "python3"
  },
  "language_info": {
   "codemirror_mode": {
    "name": "ipython",
    "version": 3
   },
   "file_extension": ".py",
   "mimetype": "text/x-python",
   "name": "python",
   "nbconvert_exporter": "python",
   "pygments_lexer": "ipython3",
   "version": "3.7.3"
  }
 },
 "nbformat": 4,
 "nbformat_minor": 2
}
